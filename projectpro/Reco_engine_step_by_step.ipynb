{
 "cells": [
  {
   "cell_type": "code",
   "execution_count": null,
   "id": "ff51d96a-7251-487d-ab60-481081609da1",
   "metadata": {},
   "outputs": [],
   "source": [
    "# import libraries\n",
    "import pandas as pd \n",
    "import numpy as np\n",
    "from sklearn.preprocessing import LabelEncoder\n",
    "from sklearn.metrics.pairwise import cosine_similarity, euclidean_distances, manhattan_distances\n",
    "import warnings\n",
    "\n",
    "# read csv\n",
    "df = pd.read_csv('gs://divg-groovyhoon-pr-d2eab4-default/projectpro/processed_telecom_offer_data.csv')\n",
    "\n",
    "# show dataframe\n",
    "df.head()"
   ]
  },
  {
   "cell_type": "code",
   "execution_count": null,
   "id": "38f74d3b-f7c2-4e34-863b-f6ddd4153552",
   "metadata": {},
   "outputs": [],
   "source": [
    "# Split dataframe to a training and serving dataset\n",
    "def training_serving_split(df): \n",
    "    training = df[df['offer'] != 'No Offer'] \n",
    "    serving = df[df['offer'] == 'No Offer'] \n",
    "    return training, serving\n",
    "\n",
    "df_training, df_serving = training_serving_split(df)\n",
    "\n",
    "print(df_training.shape, df_serving.shape)"
   ]
  },
  {
   "cell_type": "code",
   "execution_count": null,
   "id": "87a674b5-8a8a-4162-9202-9fbd740400f5",
   "metadata": {},
   "outputs": [],
   "source": [
    "\n",
    "# Columns that represent the customer ID and the business outcomes\n",
    "id_variables = ['Customer ID', 'Month','Month of Joining','offer','Churn Category',\n",
    "       'Churn Reason', 'Customer Status', 'Churn Value']\n",
    "\n",
    "# Columns that represent different profiles of customers\n",
    "profile_variables = ['Customer ID', 'Month', 'Month of Joining', 'Gender', 'Age',\n",
    "                      'Married', 'Number of Dependents', 'area_codes','roam_ic', 'roam_og',\n",
    "                      'loc_og_t2t','loc_og_t2m', 'loc_og_t2f', 'loc_og_t2c', 'std_og_t2t', 'std_og_t2m',\n",
    "                      'std_og_t2f', 'std_og_t2c', 'isd_og', 'spl_og', 'og_others',\n",
    "                      'loc_ic_t2t', 'loc_ic_t2m', 'loc_ic_t2f', 'std_ic_t2t', 'std_ic_t2m',\n",
    "                      'std_ic_t2f', 'std_ic_t2o', 'spl_ic', 'isd_ic', 'ic_others',\n",
    "                      'total_rech_amt', 'total_rech_data', 'vol_4g', 'vol_5g', 'arpu_5g',\n",
    "                      'arpu_4g', 'arpu', 'aug_vbc_5g','Number of Referrals', 'Phone Service',\n",
    "                      'Multiple Lines', 'Internet Service', 'Internet Type',\n",
    "                      'Streaming Data Consumption', 'Online Security', 'Online Backup',\n",
    "                      'Device Protection Plan', 'Premium Tech Support', 'Streaming TV',\n",
    "                      'Streaming Movies', 'Streaming Music', 'Unlimited Data',\n",
    "                      'Payment Method']\n",
    "\n",
    "df_training_id = df_training[id_variables]\n",
    "df_training_feat = df_training[profile_variables]\n",
    "\n",
    "df_serving_id = df_serving[id_variables]\n",
    "df_serving_feat = df_serving[profile_variables]"
   ]
  },
  {
   "cell_type": "code",
   "execution_count": null,
   "id": "2c13d965-664a-4f20-a817-9e32d3ee92ea",
   "metadata": {},
   "outputs": [],
   "source": [
    "# Calculate customer's tenure for df_training_feat \n",
    "df_training_feat['tenure'] = df_training_feat['Month']- df_training_feat['Month of Joining']\n",
    "df_training_feat['tenure'].describe()\n",
    "\n",
    "\n",
    "# Calculate customer's tenure for df_serving_feat\n",
    "df_serving_feat['tenure'] = df_serving_feat['Month']- df_serving_feat['Month of Joining']\n",
    "df_serving_feat['tenure'].describe()\n",
    "\n"
   ]
  },
  {
   "cell_type": "code",
   "execution_count": null,
   "id": "c8c464c8-51d1-4d09-a5ca-e2e1672fab9e",
   "metadata": {},
   "outputs": [],
   "source": [
    "cat_feat = df_training.select_dtypes(include=['object', 'category']).columns.tolist()\n",
    "print(cat_feat)"
   ]
  },
  {
   "cell_type": "code",
   "execution_count": null,
   "id": "4c5e6198-59fa-477a-bc1f-1fce3a3f7fd5",
   "metadata": {},
   "outputs": [],
   "source": [
    "# Now we need to transform the features of the feature store.\n",
    "def encode_categorical_features(df_training, df_serving):\n",
    "    \n",
    "    # Get a list of all categorical columns\n",
    "    cat_columns = df_training.select_dtypes(include=['object', 'category']).columns.tolist()\n",
    "\n",
    "    # Encode each categorical column\n",
    "    for col in cat_columns:\n",
    "        le = LabelEncoder()\n",
    "        df_training[col] = le.fit_transform(df_training[col])\n",
    "        df_serving[col]= le.transform(df_serving[col])\n",
    "        \n",
    "    return df_training, df_serving"
   ]
  },
  {
   "cell_type": "code",
   "execution_count": null,
   "id": "7726e1a3-175a-4153-bd5e-0d39b7565b51",
   "metadata": {},
   "outputs": [],
   "source": [
    "# excluding the customer ID so it doesn't get encoded\n",
    "training_labels=df_training_feat[df_training_feat.columns.difference(['Customer ID','Month','Month of Joining'])]\n",
    "serving_labels=df_serving_feat[df_serving_feat.columns.difference(['Customer ID','Month','Month of Joining'])]\n",
    "\n",
    "training_feat_encoded, serving_feat_encoded = encode_categorical_features(training_labels,serving_labels)\n",
    "\n",
    "print(training_feat_encoded.columns)\n",
    "print(serving_feat_encoded.columns)"
   ]
  },
  {
   "cell_type": "code",
   "execution_count": null,
   "id": "bbc8370e-ad85-41f5-a855-52bfae891369",
   "metadata": {},
   "outputs": [],
   "source": [
    "# re-attach customer id variables for both training_feat_encoded\n",
    "training_feat_encoded['Customer ID'] = df_training_feat['Customer ID'] \n",
    "training_feat_encoded['Month'] = df_training_feat['Month'] \n",
    "training_feat_encoded['Month of Joining'] = df_training_feat['Month of Joining'] \n",
    "\n",
    "# re-attach the customer id variables for both serving_feat_encoded\n",
    "serving_feat_encoded['Customer ID'] = df_serving_feat['Customer ID'] \n",
    "serving_feat_encoded['Month'] = df_serving_feat['Month'] \n",
    "serving_feat_encoded['Month of Joining'] = df_serving_feat['Month of Joining'] \n",
    "\n",
    "# merge\n",
    "df_training_final = pd.merge(training_feat_encoded, df_training_id[['Customer ID','Month','Month of Joining','Churn Value','offer']], how='inner',on=['Customer ID','Month','Month of Joining'])\n",
    "df_serving_final = pd.merge(serving_feat_encoded, df_serving_id[['Customer ID','Month','Month of Joining','Churn Value','offer']], how='inner',on=['Customer ID','Month','Month of Joining'])\n",
    "\n",
    "df_training_final.head()"
   ]
  },
  {
   "cell_type": "code",
   "execution_count": null,
   "id": "1e44d486-6dc8-4022-9bd4-ff971faf1276",
   "metadata": {},
   "outputs": [],
   "source": [
    "# export final datasets to csv\n",
    "df_training_final.to_csv('gs://divg-groovyhoon-pr-d2eab4-default/projectpro/df_training_final.csv', index=False)\n",
    "df_serving_final.to_csv('gs://divg-groovyhoon-pr-d2eab4-default/projectpro/df_serving_final.csv', index=False)"
   ]
  },
  {
   "cell_type": "code",
   "execution_count": null,
   "id": "ed6a2591-27aa-4aa0-abff-20d49e178529",
   "metadata": {},
   "outputs": [],
   "source": [
    "df_training_final.head()"
   ]
  },
  {
   "cell_type": "code",
   "execution_count": null,
   "id": "a53ed11b-9589-42b0-a8ac-f1f9918c8f8c",
   "metadata": {},
   "outputs": [],
   "source": [
    "df = df_training_final\n",
    "id_cols=['Customer ID','Month','Month of Joining','Churn Value','offer']\n",
    "df_id = df_training_final[id_cols] \n",
    "customer_id = 'pnmkvvmrglxpm41'\n",
    "month = 13 \n",
    "distance_func = 'cosine'\n",
    "n = 2000\n",
    "minimal_threshold = 0.10\n",
    "max_offers_to_return = 3\n",
    "\n",
    "# offers = get_recommended_offers (train, train[id_cols], customer_id, month,distance_func,n,minimal_threshold,max_offers_to_return)"
   ]
  },
  {
   "cell_type": "code",
   "execution_count": null,
   "id": "6df8a772-c503-4482-91fe-142eb97c836f",
   "metadata": {},
   "outputs": [],
   "source": [
    "# extract the feature vectors of all customers\n",
    "features = list(df_training_final.columns.difference(['Customer ID','Month','Month of Joining','offer']))\n",
    "X = df_training_final[features].values\n",
    "\n",
    "print(X)"
   ]
  },
  {
   "cell_type": "code",
   "execution_count": null,
   "id": "4901438d-c06d-4c31-a0c9-5b4182df04e2",
   "metadata": {},
   "outputs": [],
   "source": [
    "# extract the feature vector of a given customer\n",
    "index = df_training_final[(df_training_final['Customer ID'] == customer_id) & (df_training_final['Month']==month)].index[0]\n",
    "x = X[index]\n",
    "\n",
    "print(x)"
   ]
  },
  {
   "cell_type": "code",
   "execution_count": null,
   "id": "a7429ade-c8cb-4496-b08d-8f2e1282d864",
   "metadata": {},
   "outputs": [],
   "source": [
    "distances = cosine_similarity(X, x.reshape(1, -1)).flatten()\n",
    "\n",
    "print(np.min(distances), np.max(distances))\n",
    "print(distances)"
   ]
  },
  {
   "cell_type": "code",
   "execution_count": null,
   "id": "39b81551-c4c3-4b6d-aedf-673e2af65344",
   "metadata": {},
   "outputs": [],
   "source": [
    "\n",
    "# find the indices of the n customers with lowest distance\n",
    "most_similar_indices = distances.argsort()[:n]\n",
    "\n",
    "print(distances[24], distances[2198], distances[59314], distances[125555], distances[113914])\n",
    "\n",
    "print(most_similar_indices)"
   ]
  },
  {
   "cell_type": "code",
   "execution_count": null,
   "id": "cce14d01-4aca-4e6b-9060-4df54c5d4b8c",
   "metadata": {},
   "outputs": [],
   "source": [
    "\n",
    "# extract the customer data for the most similar customers\n",
    "similar_customers = df_training_final.iloc[most_similar_indices]\n",
    "\n",
    "similar_customers.head()\n",
    "\n",
    "# similar_customers.to_csv('gs://divg-groovyhoon-pr-d2eab4-default/projectpro/similar_customers.csv', index=False)\n"
   ]
  },
  {
   "cell_type": "code",
   "execution_count": null,
   "id": "d89a2b5a-92da-4391-be66-cedb4ba89470",
   "metadata": {},
   "outputs": [],
   "source": [
    "# merge with the id dataframe to select only the customers who did not churn\n",
    "similar_customers = pd.merge(similar_customers,df_id[['Customer ID','Month of Joining','Month','Churn Value']],on=['Customer ID','Month of Joining','Month','Churn Value'])\n",
    "\n",
    "# select the customers that did not churn\n",
    "similar_customers = similar_customers[similar_customers['Churn Value']==0]\n",
    "\n",
    "similar_customers.head()"
   ]
  },
  {
   "cell_type": "code",
   "execution_count": null,
   "id": "73e2817a-2894-41ba-8a4f-f55405e1da8c",
   "metadata": {},
   "outputs": [],
   "source": [
    "# count the top offers of the non-churned customers\n",
    "top_offers = similar_customers[['Customer ID','offer']].groupby(['offer']).agg({'Customer ID':'count'}).reset_index().sort_values(by = 'Customer ID', ascending = False)\n",
    "top_offers.rename(columns={'Customer ID': 'customer_count'}, inplace=True)\n",
    "top_offers['perc_total'] = top_offers['customer_count']/top_offers['customer_count'].sum()\n",
    "\n",
    "print(top_offers)\n",
    "\n"
   ]
  },
  {
   "cell_type": "code",
   "execution_count": null,
   "id": "b648745b-c0e1-458f-8de8-7c5c452ed303",
   "metadata": {},
   "outputs": [],
   "source": [
    "top_offers_min = top_offers[top_offers['perc_total']>minimal_threshold].head(max_offers_to_return)\n",
    "\n",
    "top_offers_min['offer'].unique()\n"
   ]
  },
  {
   "cell_type": "code",
   "execution_count": null,
   "id": "5768defc-3a04-4fd1-a2a4-66ff1d038a8f",
   "metadata": {},
   "outputs": [],
   "source": [
    "def get_recommended_offers (df:pd.DataFrame, \n",
    "                            df_id:pd.DataFrame,\n",
    "                            customer_id:str,\n",
    "                            month:int,\n",
    "                            distance_func:str,\n",
    "                            n,\n",
    "                            minimal_threshold:float,\n",
    "                            max_offers_to_return:int\n",
    "                            ):\n",
    "    \"\"\"\n",
    "    Input parameters: \n",
    "    1. df: The original DataFrame\n",
    "    2. df_id: The customer identifiers (Customer ID and Month) of customers for whom we want to make an offer\n",
    "    3. distance_func: The distance function to calculate similarity score (choose from 'euclidean', 'manhattan', or 'cosine')\n",
    "    4. n: The number of similar customers we want to base our recommendations on (e.g. 100 or 1000)\n",
    "    5. minimal_threshold: The minimal threshold of offer score \n",
    "    6. max_offers_to_return: The number of top offers to recommend to the customer\n",
    "    \n",
    "    Output parameters: \n",
    "    A list of offers to recommend to the specified customer\n",
    "    \"\"\"\n",
    "\n",
    "    # extract the feature vectors of all customers\n",
    "    features = list(df.columns.difference(['Customer ID','Month','Month of Joining','offer']))\n",
    "    X = df[features].values\n",
    "\n",
    "    # extract the feature vector of the given customer\n",
    "    index = df[(df['Customer ID'] == customer_id) & (df['Month']==month)].index[0]\n",
    "    x = X[index]\n",
    "\n",
    "    # compute the distances between the feature vectors\n",
    "    if distance_func == 'euclidean':\n",
    "      distances = euclidean_distances(X, x.reshape(1, -1)).flatten()\n",
    "    elif distance_func == 'manhattan':\n",
    "      distances = manhattan_distances(X, x.reshape(1, -1)).flatten()\n",
    "    elif distance_func == 'cosine':\n",
    "      distances = 1 - cosine_similarity(X, x.reshape(1, -1)).flatten()\n",
    "    else:\n",
    "      raise ValueError('Invalid distance function specified.')\n",
    "\n",
    "    # find the indices of the n customers with lowest distance\n",
    "    most_similar_indices = distances.argsort()[:n]\n",
    "            \n",
    "    # extract the customer data for the most similar customers\n",
    "    similar_customers = df.iloc[most_similar_indices]\n",
    "\n",
    "    # merge with the id dataframe to select only the customers who did not churn\n",
    "    similar_customers = pd.merge(similar_customers,df_id[['Customer ID','Month of Joining','Month','Churn Value']],on=['Customer ID','Month of Joining','Month','Churn Value'])\n",
    "\n",
    "    # select the customers that did not churn\n",
    "    similar_customers = similar_customers[similar_customers['Churn Value']==0]\n",
    "\n",
    "    # count the top offers of the non-churned customers\n",
    "    top_offers = similar_customers[['Customer ID','offer']].groupby(['offer']).agg({'Customer ID':'count'}).reset_index().sort_values(by = 'Customer ID', ascending = False)    \n",
    "    top_offers['perc_total'] = top_offers['Customer ID']/top_offers['Customer ID'].sum()\n",
    "    top_offers_min = top_offers[top_offers['perc_total']>minimal_threshold].head(max_offers_to_return)\n",
    "        \n",
    "    return top_offers_min['offer'].unique()"
   ]
  },
  {
   "cell_type": "code",
   "execution_count": null,
   "id": "b75b9a07-6c28-490d-bcd2-3557d7897dc8",
   "metadata": {},
   "outputs": [],
   "source": [
    "df_training_final[df_training_final['Customer ID']=='nfhyvxuubmklt23']"
   ]
  },
  {
   "cell_type": "code",
   "execution_count": null,
   "id": "ca777804-d7e1-4572-bc66-80904d6e9364",
   "metadata": {},
   "outputs": [],
   "source": [
    "df_training_final.columns"
   ]
  },
  {
   "cell_type": "code",
   "execution_count": null,
   "id": "ba8673c6-daa6-4263-aa62-a2014b64642b",
   "metadata": {},
   "outputs": [],
   "source": [
    "customer_id = 'nfhyvxuubmklt23' \n",
    "month = 6\n",
    "distance_func = 'cosine'\n",
    "n = 1000\n",
    "minimal_threshold= 0.10\n",
    "max_offers_to_return = 5\n",
    "id_cols=['Customer ID','Month','Month of Joining','Churn Value','offer']\n",
    "\n",
    "offers = get_recommended_offers(df_training_final, df_training_final[id_cols], customer_id, month, distance_func, n, minimal_threshold, max_offers_to_return)\n",
    "\n",
    "print('The first offer to recommend is ' + str(offers[0]))\n",
    "print('The second offer to recommend is ' + str(offers[1]))\n",
    "print('The third offer to recommend is ' + str(offers[2]))\n"
   ]
  },
  {
   "cell_type": "code",
   "execution_count": null,
   "id": "db407fca-53ee-4eea-ad80-363a8c9c6bbb",
   "metadata": {},
   "outputs": [],
   "source": [
    "df_training_final[df_training_final['Customer ID']=='hlknupiesduin44']"
   ]
  },
  {
   "cell_type": "code",
   "execution_count": null,
   "id": "1325d64b-d66a-46f9-b985-d2e4ac41a052",
   "metadata": {},
   "outputs": [],
   "source": [
    "customer_id = 'hlknupiesduin44' \n",
    "month = 5\n",
    "distance_func = 'euclidean'\n",
    "n = 1000\n",
    "minimal_threshold= 0.10\n",
    "max_offers_to_return = 3\n",
    "id_cols=['Customer ID','Month','Month of Joining','Churn Value','offer']\n",
    "\n",
    "offers = get_recommended_offers(df_training_final, df_training_final[id_cols], customer_id, month, distance_func, n, minimal_threshold, max_offers_to_return)\n",
    "\n",
    "print('The first offer to recommend is ' + str(offers[0]))\n",
    "print('The second offer to recommend is ' + str(offers[1]))\n",
    "print('The third offer to recommend is ' + str(offers[2]))"
   ]
  },
  {
   "cell_type": "code",
   "execution_count": null,
   "id": "d8cfe100-4408-482d-b0fa-3001ffd9c554",
   "metadata": {},
   "outputs": [],
   "source": [
    "df_training_final[df_training_final['Customer ID']=='hvazrzbwvnhru233']"
   ]
  },
  {
   "cell_type": "code",
   "execution_count": null,
   "id": "49cbdd67-bf98-4e6c-b589-767428ddb942",
   "metadata": {},
   "outputs": [],
   "source": [
    "customer_id = 'hvazrzbwvnhru233' \n",
    "month = 7\n",
    "distance_func = 'manhattan'\n",
    "n = 1000\n",
    "minimal_threshold= 0.10\n",
    "max_offers_to_return = 3\n",
    "id_cols=['Customer ID','Month','Month of Joining','Churn Value','offer']\n",
    "\n",
    "offers = get_recommended_offers(df_training_final, df_training_final[id_cols], customer_id, month, distance_func, n, minimal_threshold, max_offers_to_return)\n",
    "\n",
    "print('The first offer to recommend is ' + str(offers[0]))\n",
    "print('The second offer to recommend is ' + str(offers[1]))\n",
    "print('The third offer to recommend is ' + str(offers[2]))"
   ]
  },
  {
   "cell_type": "code",
   "execution_count": null,
   "id": "fec1b01b-6c56-47e4-8fd9-e42806c39641",
   "metadata": {},
   "outputs": [],
   "source": [
    "df_training_final['Customer ID'][200:250]"
   ]
  },
  {
   "cell_type": "code",
   "execution_count": null,
   "id": "7e8f6849-b1f7-4588-984f-8de81a316e22",
   "metadata": {},
   "outputs": [],
   "source": []
  }
 ],
 "metadata": {
  "kernelspec": {
   "display_name": "Python 3 (ipykernel)",
   "language": "python",
   "name": "python3"
  },
  "language_info": {
   "codemirror_mode": {
    "name": "ipython",
    "version": 3
   },
   "file_extension": ".py",
   "mimetype": "text/x-python",
   "name": "python",
   "nbconvert_exporter": "python",
   "pygments_lexer": "ipython3",
   "version": "3.7.12"
  }
 },
 "nbformat": 4,
 "nbformat_minor": 5
}
