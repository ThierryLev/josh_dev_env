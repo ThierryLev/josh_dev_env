{
 "cells": [
  {
   "cell_type": "code",
   "execution_count": null,
   "id": "57d839e1-7c7b-4f34-837f-7224a5e8cda6",
   "metadata": {
    "tags": [
     "parameters"
    ]
   },
   "outputs": [],
   "source": [
    "\n",
    "import pandas as pd\n",
    "import numpy as np\n",
    "import sys\n",
    "\n",
    "def create_quantile_df(): \n",
    "\n",
    "    # Create an empty dataframe with columns as cts_cols and index as quantiles\n",
    "    quantile_df=pd.DataFrame(columns=['quantile'], data=[0.1,0.25,0.5,0.75,0.8,0.9,0.95,0.97,0.99], index=np.arange(1, 10, dtype=int))\n",
    "\n",
    "    return quantile_df\n",
    "\n"
   ]
  },
  {
   "cell_type": "code",
   "execution_count": null,
   "id": "de69054a-44d9-4a0d-b5ff-7e580beb3ba5",
   "metadata": {},
   "outputs": [],
   "source": []
  },
  {
   "cell_type": "code",
   "execution_count": null,
   "id": "ea031100-be2c-47bf-a06e-7588a8940f94",
   "metadata": {},
   "outputs": [],
   "source": []
  }
 ],
 "metadata": {
  "kernelspec": {
   "display_name": "Python 3 (ipykernel)",
   "language": "python",
   "name": "python3"
  },
  "language_info": {
   "codemirror_mode": {
    "name": "ipython",
    "version": 3
   },
   "file_extension": ".py",
   "mimetype": "text/x-python",
   "name": "python",
   "nbconvert_exporter": "python",
   "pygments_lexer": "ipython3",
   "version": "3.7.12"
  }
 },
 "nbformat": 4,
 "nbformat_minor": 5
}
