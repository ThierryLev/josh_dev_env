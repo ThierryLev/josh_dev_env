{
 "cells": [
  {
   "cell_type": "markdown",
   "id": "8c0fb6cb-dfa0-4df9-b99c-166ddd0fc612",
   "metadata": {},
   "source": [
    "get_tbl_schema"
   ]
  },
  {
   "cell_type": "code",
   "execution_count": null,
   "id": "84ea28c0-17a3-4424-9028-7949ac91aece",
   "metadata": {},
   "outputs": [],
   "source": [
    "import io \n",
    "f = io.StringIO(\"\")\n",
    "project_id = '' \n",
    "client = get_gcp_bqclient(project_id, use_local_credential=True)\n",
    "dataset_id = '' \n",
    "table_id = '' \n",
    "dataset_ref = client.dataset(dataset_id, project=project_id) \n",
    "table_ref = dataset_ref.table(table_id) \n",
    "table = client.get_table(table_ref) \n",
    "f = io.StringIO(\"\") \n",
    "client.schema_to_json(table.schema, f) \n",
    "print(f.getvalue())"
   ]
  }
 ],
 "metadata": {
  "kernelspec": {
   "display_name": "Python 3 (ipykernel)",
   "language": "python",
   "name": "python3"
  },
  "language_info": {
   "codemirror_mode": {
    "name": "ipython",
    "version": 3
   },
   "file_extension": ".py",
   "mimetype": "text/x-python",
   "name": "python",
   "nbconvert_exporter": "python",
   "pygments_lexer": "ipython3",
   "version": "3.8.12"
  }
 },
 "nbformat": 4,
 "nbformat_minor": 5
}
