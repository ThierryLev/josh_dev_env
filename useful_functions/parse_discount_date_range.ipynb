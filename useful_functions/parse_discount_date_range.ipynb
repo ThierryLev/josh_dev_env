{
 "cells": [
  {
   "cell_type": "code",
   "execution_count": null,
   "id": "cfc88fd4-ec8a-470a-a8a7-3788efd48c61",
   "metadata": {},
   "outputs": [],
   "source": [
    "import os\n",
    "import re\n",
    "import google\n",
    "from google.oauth2 import credentials\n",
    "from google.oauth2 import service_account\n",
    "from google.oauth2.service_account import Credentials\n",
    "import pandas as pd \n",
    "import numpy as np\n",
    "from google.cloud import bigquery\n",
    "from google.cloud import storage\n",
    "import gc\n",
    "import time\n",
    "from datetime import datetime\n",
    "\n",
    "#`divg-josh-pr-d1cc3a.campaign_performance_analysis.contract_expiry_and_discounts` \n",
    "\n",
    "project_id = 'divg-josh-pr-d1cc3a' \n",
    "dataset_id = 'promo_expiry_analysis'\n",
    "tbl_nm = 'latest_bill_discount_apr_2023_cohort'\n",
    "save_data_path='gs://divg-josh-pr-d1cc3a-default/downloads/{}.csv'.format(tbl_nm)\n",
    "\n",
    "def get_gcp_bqclient(project_id, use_local_credential=True):\n",
    "    token = os.popen('gcloud auth print-access-token').read()\n",
    "    token = re.sub(f'\\n$', '', token)\n",
    "    credentials = google.oauth2.credentials.Credentials(token)\n",
    "\n",
    "    bq_client = bigquery.Client(project=project_id)\n",
    "    if use_local_credential:\n",
    "        bq_client = bigquery.Client(project=project_id, credentials=credentials)\n",
    "    return bq_client\n",
    "\n",
    "client = get_gcp_bqclient(project_id)\n",
    "\n",
    "data_set = f\"{project_id}.{dataset_id}.{tbl_nm}\" \n",
    "\n",
    "sql = '''SELECT * FROM `{data_set}`'''.format(data_set=data_set)\n",
    "\n",
    "df_export = client.query(sql).to_dataframe()\n",
    "\n",
    "df_export.head()\n",
    "\n",
    "# df_export = df_export.reset_index()\n",
    "# df_export.to_csv(save_data_path, index=False) \n",
    "\n",
    "# print(f\"{data_set} saved in {save_data_path}\")\n"
   ]
  },
  {
   "cell_type": "code",
   "execution_count": null,
   "id": "c8dbad90-76f7-4cfe-b5f6-457b6deed5e2",
   "metadata": {
    "tags": []
   },
   "outputs": [],
   "source": [
    "bill_itm_dsply_nm = df_export['bill_itm_dsply_nm'].to_list() \n",
    "discount_end_date = df_export['discount_end_date'].to_list() \n",
    "discount_end_dt = []\n",
    "\n",
    "def left(s, amount):\n",
    "    return s[:amount]\n",
    "\n",
    "for idx, item in enumerate(bill_itm_dsply_nm): \n",
    "    if 'discount end' in item and re.search(r'[a-zA-Z]{3} [0-9]{2}, [0-9]{4}', item): \n",
    "        discount_end_dt.append(datetime.strptime(re.search(r'[a-zA-Z]{3} [0-9]{2}, [0-9]{4}', item)[0], \"%b %d, %Y\").date())\n",
    "    elif re.search(r'effective [a-zA-Z]{3} [0-9]{2}, [0-9]{4} to [a-zA-Z]{3} [0-9]{2}, [0-9]{4}', item): \n",
    "        discount_end_dt.append(datetime.strptime(re.findall(r'[a-zA-Z]{3} [0-9]{2}, [0-9]{4}', item)[1], \"%b %d, %Y\").date())\n",
    "    else: \n",
    "        discount_end_dt.append(datetime.strptime(left(str(discount_end_date[idx]), 10), \"%Y-%m-%d\").date())\n",
    "    \n",
    "df_discount_end_dt = pd.DataFrame(discount_end_dt, columns=['df_discount_end_dt'])       \n",
    "\n",
    "df_export['df_discount_end_dt'] = df_discount_end_dt\n",
    "\n",
    "df_export = df_export.reset_index()\n",
    "df_export.to_csv(save_data_path, index=False) \n",
    "\n",
    "print(f\"{data_set} saved in {save_data_path}\")\n"
   ]
  },
  {
   "cell_type": "code",
   "execution_count": null,
   "id": "7d4a9bff-bafb-48b8-b403-c0928def40c7",
   "metadata": {
    "jupyter": {
     "source_hidden": true
    },
    "tags": []
   },
   "outputs": [],
   "source": [
    "from datetime import datetime\n",
    "\n",
    "dt = re.search(r'[a-zA-Z]{3} [0-9]{2}, [0-9]{4}', df_export['bill_itm_dsply_nm'].to_list()[-5000])[0]\n",
    "\n",
    "print(datetime.strptime(dt, \"%b %d, %Y\").date()) \n"
   ]
  },
  {
   "cell_type": "code",
   "execution_count": null,
   "id": "10d6eca0-dba7-4cae-9cdf-aaad93c9076f",
   "metadata": {},
   "outputs": [],
   "source": []
  }
 ],
 "metadata": {
  "kernelspec": {
   "display_name": "Python 3 (ipykernel)",
   "language": "python",
   "name": "python3"
  },
  "language_info": {
   "codemirror_mode": {
    "name": "ipython",
    "version": 3
   },
   "file_extension": ".py",
   "mimetype": "text/x-python",
   "name": "python",
   "nbconvert_exporter": "python",
   "pygments_lexer": "ipython3",
   "version": "3.8.12"
  }
 },
 "nbformat": 4,
 "nbformat_minor": 5
}
