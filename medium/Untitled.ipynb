{
 "cells": [
  {
   "cell_type": "markdown",
   "id": "359ee48a-7b9e-412a-a29d-a721d0747cfb",
   "metadata": {},
   "source": [
    "## MLOps With Kubeflow Pipelines (Part 1)"
   ]
  },
  {
   "cell_type": "code",
   "execution_count": null,
   "id": "0262e835-e335-4404-8ac4-723957cf103f",
   "metadata": {},
   "outputs": [],
   "source": [
    "# Importing libraries\n",
    "import pandas as pd\n",
    "import numpy as np\n",
    "import matplotlib.pyplot as plt\n",
    "import seaborn as sns\n",
    "from sklearn import metrics\n",
    "from sklearn.datasets import load_breast_cancer\n",
    "from sklearn.model_selection import train_test_split\n",
    "\n",
    "# import the entire dataset into `data` for quick EDA\n",
    "data = load_breast_cancer() \n",
    "df = pd.DataFrame(data = data.data, columns = data.feature_names) \n",
    "df['target'] = pd.Series(data.target) \n",
    "\n",
    "#import features into X and target into y for training\n",
    "X, y = load_breast_cancer(return_X_y = True, as_frame = True) \n",
    "\n",
    "# Create the training and test sets\n",
    "X_train, X_test, y_train, y_test = train_test_split(X, y, test_size=0.3, random_state=123)\n"
   ]
  },
  {
   "cell_type": "code",
   "execution_count": null,
   "id": "202f4c40-3089-4eec-8362-aff0540dcf87",
   "metadata": {},
   "outputs": [],
   "source": [
    "#print head \n",
    "data.head()"
   ]
  },
  {
   "cell_type": "code",
   "execution_count": null,
   "id": "abe42674-eeda-4e8f-93c8-1bf0333e3ffb",
   "metadata": {},
   "outputs": [],
   "source": [
    "# Printing the dimenions of data\n",
    "print(data.shape)\n",
    "print(X.shape) \n",
    "print(y.shape)"
   ]
  },
  {
   "cell_type": "code",
   "execution_count": null,
   "id": "43ebf4ea-9205-4250-959e-c61e5487fc02",
   "metadata": {},
   "outputs": [],
   "source": []
  }
 ],
 "metadata": {
  "kernelspec": {
   "display_name": "Python 3 (ipykernel)",
   "language": "python",
   "name": "python3"
  },
  "language_info": {
   "codemirror_mode": {
    "name": "ipython",
    "version": 3
   },
   "file_extension": ".py",
   "mimetype": "text/x-python",
   "name": "python",
   "nbconvert_exporter": "python",
   "pygments_lexer": "ipython3",
   "version": "3.7.12"
  }
 },
 "nbformat": 4,
 "nbformat_minor": 5
}
