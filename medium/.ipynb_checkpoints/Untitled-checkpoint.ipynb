{
 "cells": [
  {
   "cell_type": "code",
   "execution_count": null,
   "id": "fe1f0d6d-7daa-4e24-87fb-e09a8e5675c6",
   "metadata": {},
   "outputs": [],
   "source": [
    "# import required libraries\n",
    "import kfp\n",
    "from kfp import dsl\n",
    "from kfp.v2 import compiler\n",
    "from kfp.v2.dsl import (Artifact, Dataset, Input, InputPath, Model, Output, OutputPath, ClassificationMetrics,\n",
    "                        Metrics, component)\n",
    "import os\n",
    "import re\n",
    "from pathlib import Path\n",
    "\n",
    "from datetime import date\n",
    "from datetime import timedelta\n",
    "from dateutil.relativedelta import relativedelta\n",
    "\n",
    "import google\n",
    "from google.oauth2 import credentials\n",
    "from google.oauth2 import service_account\n",
    "from google.oauth2.service_account import Credentials\n",
    "from google.cloud import storage\n",
    "from google.cloud.aiplatform import pipeline_jobs\n",
    "from google_cloud_pipeline_components.v1.batch_predict_job import \\\n",
    "    ModelBatchPredictOp as batch_prediction_op\n",
    "from typing import NamedTuple"
   ]
  },
  {
   "cell_type": "code",
   "execution_count": null,
   "id": "8becae65-c238-4e54-9930-64bef185c914",
   "metadata": {},
   "outputs": [],
   "source": [
    "BUCKET_NAME='divg-josh-pr-d1cc3a-default'\n",
    "REGION = \"northamerica-northeast1\"\n",
    "PIPELINE_ROOT = f\"gs://{BUCKET_NAME}\""
   ]
  },
  {
   "cell_type": "code",
   "execution_count": null,
   "id": "c9fe9530-c7d7-4003-b6de-9b848a17a4df",
   "metadata": {},
   "outputs": [],
   "source": [
    "@component(base_image=\"northamerica-northeast1-docker.pkg.dev/cio-workbench-image-np-0ddefe/wb-platform/pipelines/kubeflow-pycaret:latest\", output_component_file=\"component_one.yaml\")\n",
    "def intput_integer(num: int) -> int:\n",
    "    return num"
   ]
  },
  {
   "cell_type": "code",
   "execution_count": null,
   "id": "2319994f-0180-4c38-bfb9-77d6a889ee79",
   "metadata": {},
   "outputs": [],
   "source": [
    "@component(base_image=\"northamerica-northeast1-docker.pkg.dev/cio-workbench-image-np-0ddefe/wb-platform/pipelines/kubeflow-pycaret:latest\", output_component_file=\"component_two.yaml\")\n",
    "def double_square(\n",
    "    num: int\n",
    ") -> NamedTuple(\n",
    "    \"Outputs\",\n",
    "    [\n",
    "        (\"value\", int),  # Return parameters\n",
    "        (\"double\", int),\n",
    "        (\"square\", int)\n",
    "    ],\n",
    "):\n",
    "    double = num * 2 \n",
    "    square = num * num\n",
    "\n",
    "    print(f\"intput value: {num}, double: {double}, square: {square}\") \n",
    "    return (num, double, square)"
   ]
  },
  {
   "cell_type": "code",
   "execution_count": null,
   "id": "ee995332-4b3b-4f62-acdb-22a2662b72aa",
   "metadata": {},
   "outputs": [],
   "source": [
    "@component(base_image=\"northamerica-northeast1-docker.pkg.dev/cio-workbench-image-np-0ddefe/wb-platform/pipelines/kubeflow-pycaret:latest\", output_component_file=\"component_three.yaml\")\n",
    "def show_results(\n",
    "    num: int,\n",
    "    double: int,\n",
    "    square: int\n",
    ") -> int:\n",
    "    print(\"Here is the output: \")\n",
    "\n",
    "    end_str = f\"The double of {num} is {double}, and the square of {num} is {square}\"\n",
    "\n",
    "    return end_str"
   ]
  },
  {
   "cell_type": "code",
   "execution_count": null,
   "id": "12c86762-135e-43fe-b2ec-f506c589436f",
   "metadata": {},
   "outputs": [],
   "source": [
    "@dsl.pipeline(\n",
    "    name=\"demo-pipeline\",\n",
    "    description=\"vertex pipeline example\",\n",
    "    pipeline_root=PIPELINE_ROOT,\n",
    ")\n",
    "# You can change the `text` and `emoji_str` parameters here to update the pipeline output\n",
    "def pipeline(num: int = 5):\n",
    "    \n",
    "    # ----- component 1 --------\n",
    "    intput_integer_op = intput_integer(num)\n",
    "    \n",
    "#     intput_integer_op.set_memory_limit('4G')\n",
    "#     intput_integer_op.set_cpu_limit('4')\n",
    "    \n",
    "    # ----- component 2 --------\n",
    "    double_square_op = double_square(num)\n",
    "    \n",
    "#     double_square_op.set_memory_limit('4G')\n",
    "#     double_square_op.set_cpu_limit('4')\n",
    "    \n",
    "#     double_square_op.after(intput_integer_op)\n",
    "    \n",
    "#     # ----- component 3 --------\n",
    "#     show_results_op = show_results(\n",
    "#             intput_integer_op.output,\n",
    "#             double_square_op.outputs[\"double\"],\n",
    "#             double_square_op.outputs[\"square\"],\n",
    "#         ) \n",
    "\n",
    "    # ----- component 3 --------\n",
    "    show_results_op = show_results(\n",
    "            input_integer_op.output,\n",
    "            double_square_op.outputs[\"double\"],\n",
    "            double_square_op.outputs[\"square\"] ,\n",
    "        ) \n",
    "    \n",
    "    # show_results_op.set_memory_limit('4G')\n",
    "    # show_results_op.set_cpu_limit('4')\n",
    "    \n",
    "    show_results_op.after(intput_integer_op)\n",
    "    show_results_op.after(double_square_op)\n"
   ]
  },
  {
   "cell_type": "code",
   "execution_count": null,
   "id": "d0ea3138-ef53-4f80-9d80-1a74c5b5f15f",
   "metadata": {},
   "outputs": [],
   "source": [
    "import google.oauth2.credentials\n",
    "import json\n",
    "\n",
    "token = !gcloud auth print-access-token\n",
    "CREDENTIALS = google.oauth2.credentials.Credentials(token[0])\n",
    "\n",
    "compiler.Compiler().compile(\n",
    "   pipeline_func=pipeline, package_path=\"pipeline.json\"\n",
    ")\n",
    "\n",
    "job = pipeline_jobs.PipelineJob(\n",
    "   display_name=\"demo-pipeline-job\",\n",
    "   template_path=\"pipeline.json\",\n",
    "   credentials = CREDENTIALS,\n",
    "   pipeline_root = PIPELINE_ROOT,\n",
    "   location=REGION,\n",
    "   enable_caching=True # I encourage you to enable caching when testing as it will reduce resource use\n",
    ")\n",
    "\n",
    "job.run()"
   ]
  },
  {
   "cell_type": "code",
   "execution_count": null,
   "id": "6f4b5eda-1962-4447-991c-eed5324e296a",
   "metadata": {},
   "outputs": [],
   "source": [
    "# @dsl.pipeline(\n",
    "#     name=\"hello-world\",\n",
    "#     description=\"An intro pipeline\",\n",
    "#     pipeline_root=PIPELINE_ROOT,\n",
    "# )\n",
    "# # You can change the `text` and `emoji_str` parameters here to update the pipeline output\n",
    "# def intro_pipeline(text: str = \"Vertex Pipelines\", emoji_str: str = \"sparkles\"):\n",
    "#     product_task = product_name(text)\n",
    "#     emoji_task = emoji(emoji_str)\n",
    "#     consumer_task = build_sentence(\n",
    "#         product_task.output,\n",
    "#         emoji_task.outputs[\"emoji\"],\n",
    "#         emoji_task.outputs[\"emoji_text\"],\n",
    "#     )"
   ]
  },
  {
   "cell_type": "code",
   "execution_count": null,
   "id": "7c463822-2121-4613-a544-b603e83c8dc0",
   "metadata": {},
   "outputs": [],
   "source": [
    "def double_square(\n",
    "    num: int,\n",
    ") -> NamedTuple(\n",
    "    \"Outputs\",\n",
    "    [\n",
    "        (\"value\", int),  # Return parameters\n",
    "        (\"double\", int),\n",
    "        (\"square\", int)\n",
    "    ],\n",
    "):\n",
    "    double = num * 2 \n",
    "    square = num * num\n",
    "\n",
    "    print(f\"intput value: {num}, double: {double}, square: {square}\") \n",
    "    return (num, double, square)"
   ]
  },
  {
   "cell_type": "code",
   "execution_count": null,
   "id": "c733d084-0e5e-4501-a050-390f0f93bfc0",
   "metadata": {},
   "outputs": [],
   "source": [
    "double_square(5)"
   ]
  },
  {
   "cell_type": "code",
   "execution_count": null,
   "id": "a14eff21-c471-4246-b3e5-777f9e508eff",
   "metadata": {},
   "outputs": [],
   "source": []
  }
 ],
 "metadata": {
  "kernelspec": {
   "display_name": "Python 3 (ipykernel)",
   "language": "python",
   "name": "python3"
  },
  "language_info": {
   "codemirror_mode": {
    "name": "ipython",
    "version": 3
   },
   "file_extension": ".py",
   "mimetype": "text/x-python",
   "name": "python",
   "nbconvert_exporter": "python",
   "pygments_lexer": "ipython3",
   "version": "3.7.12"
  }
 },
 "nbformat": 4,
 "nbformat_minor": 5
}
