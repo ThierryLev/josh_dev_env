{
 "cells": [
  {
   "cell_type": "code",
   "execution_count": null,
   "id": "31a25e47-bd33-40f9-b52b-e40eaca02581",
   "metadata": {},
   "outputs": [],
   "source": [
    "import re\n",
    "\n",
    "# Initialize an empty list to store the extracted information\n",
    "data_list = []\n",
    "\n",
    "# Open and read the text file\n",
    "with open('churn_12_months_anomalies_2023-10-24', 'r') as file:\n",
    "    content = file.read()\n",
    "\n",
    "# Define a regular expression pattern to match the relevant data\n",
    "pattern = r'step: \"(.*?)\".*?type: (\\w+).*?value: ([\\d.e-]+).*?threshold: ([\\d.e-]+)'\n",
    "\n",
    "# Use regular expressions to find matches in the content\n",
    "matches = re.findall(pattern, content, re.DOTALL)\n",
    "\n",
    "# Iterate through the matches and extract the information\n",
    "for match in matches:\n",
    "    step, skew_type, skew_value, skew_threshold = match\n",
    "    data_list.append({\n",
    "        \"step\": step,\n",
    "        \"type\": skew_type,\n",
    "        \"value\": float(skew_value),\n",
    "        \"threshold\": float(skew_threshold)\n",
    "    })\n",
    "\n",
    "# Print the extracted data\n",
    "for data in data_list:\n",
    "    print(f\"\\\"{data['step']}\\\": {data['value']*1.3},\")\n",
    "\n",
    "# Now 'data_list' contains a list of dictionaries with the extracted information\n"
   ]
  },
  {
   "cell_type": "code",
   "execution_count": null,
   "id": "90c20892-cc38-40c7-8122-ba53ac1aa83a",
   "metadata": {},
   "outputs": [],
   "source": []
  }
 ],
 "metadata": {
  "kernelspec": {
   "display_name": "Python 3 (ipykernel)",
   "language": "python",
   "name": "python3"
  },
  "language_info": {
   "codemirror_mode": {
    "name": "ipython",
    "version": 3
   },
   "file_extension": ".py",
   "mimetype": "text/x-python",
   "name": "python",
   "nbconvert_exporter": "python",
   "pygments_lexer": "ipython3",
   "version": "3.7.12"
  }
 },
 "nbformat": 4,
 "nbformat_minor": 5
}
