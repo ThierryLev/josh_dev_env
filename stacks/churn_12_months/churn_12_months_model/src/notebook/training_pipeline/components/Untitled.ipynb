{
 "cells": [
  {
   "cell_type": "code",
   "execution_count": null,
   "id": "ccb66167-4608-492e-9c5f-334566d944ce",
   "metadata": {},
   "outputs": [],
   "source": [
    "import LGBMClassifier as lgb \n",
    "\n",
    "lgb_model = lgb.LGBMClassifier(bagging_fraction=0.7, bagging_freq=2, boosting_type='gbdt', \n",
    "class_weight=None, colsample_bytree=1.0, feature_fraction=0.8, \n",
    "importance_type='split', learning_rate=0.0005, max_depth=-1, \n",
    "min_child_samples=1, min_child_weight=0.001, min_split_gain=0.2, \n",
    "n_estimators=30, n_jobs=-1, num_leaves=256, objective=None, \n",
    "random_state=123, reg_alpha=3, reg_lambda=0.001, silent='warn', \n",
    "subsample=1.0, subsample_for_bin=200000, subsample_freq=0)\n"
   ]
  },
  {
   "cell_type": "code",
   "execution_count": null,
   "id": "5d792505-19e7-426d-b5ea-b1528edd5acf",
   "metadata": {},
   "outputs": [],
   "source": []
  }
 ],
 "metadata": {
  "kernelspec": {
   "display_name": "Python 3 (ipykernel)",
   "language": "python",
   "name": "python3"
  },
  "language_info": {
   "codemirror_mode": {
    "name": "ipython",
    "version": 3
   },
   "file_extension": ".py",
   "mimetype": "text/x-python",
   "name": "python",
   "nbconvert_exporter": "python",
   "pygments_lexer": "ipython3",
   "version": "3.7.12"
  }
 },
 "nbformat": 4,
 "nbformat_minor": 5
}
