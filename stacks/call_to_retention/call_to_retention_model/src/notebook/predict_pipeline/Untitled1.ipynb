{
 "cells": [
  {
   "cell_type": "code",
   "execution_count": null,
   "id": "7cd9a85a-925f-4275-a728-ded13d019f4f",
   "metadata": {},
   "outputs": [],
   "source": [
    "import pandas as pd\n",
    "import numpy as np\n",
    "result = [1,3,5,2,7,8,4,6,9,10]\n",
    "q = 10\n",
    "decile = pd.qcut(result, q, labels=[i for i in range(q, 0, -1)])\n",
    "print(result)\n",
    "print(decile)"
   ]
  },
  {
   "cell_type": "code",
   "execution_count": null,
   "id": "af2e67bb-dd8d-4313-ac6d-749f005bdb56",
   "metadata": {},
   "outputs": [],
   "source": [
    "print([i for i in range(10, 0, -1)])"
   ]
  },
  {
   "cell_type": "code",
   "execution_count": null,
   "id": "131611fd-c356-4273-8a14-18d3cba94d40",
   "metadata": {},
   "outputs": [],
   "source": [
    "pd.qcut(range(5), 3, labels=[\"good\", \"medium\", \"bad\"])"
   ]
  },
  {
   "cell_type": "code",
   "execution_count": null,
   "id": "24bd9c6c-78a0-4e11-8d70-1dac58212732",
   "metadata": {},
   "outputs": [],
   "source": [
    "print(range(5))"
   ]
  },
  {
   "cell_type": "code",
   "execution_count": null,
   "id": "d1a5e8af-ea72-440d-b022-edae682df18f",
   "metadata": {},
   "outputs": [],
   "source": [
    "[i for i in range(q, 0, -1)]"
   ]
  },
  {
   "cell_type": "code",
   "execution_count": null,
   "id": "b0fc2d39-00a3-44b9-b6e5-96bd4faad2b8",
   "metadata": {},
   "outputs": [],
   "source": [
    "pd.cut(np.array(result), bins=10, right=True)"
   ]
  },
  {
   "cell_type": "code",
   "execution_count": null,
   "id": "d72fc8c9-6d53-40b7-8879-7ed612ea51e1",
   "metadata": {},
   "outputs": [],
   "source": [
    "import pandas as pd\n",
    "import numpy as np\n",
    "result = [1,3,5,2,7,8,4,6,9,10]\n",
    "q = 10\n",
    "decile = pd.qcut(result, q, labels=False)\n",
    "print(result)\n",
    "print(decile)"
   ]
  },
  {
   "cell_type": "code",
   "execution_count": null,
   "id": "8c070797-9314-4656-a549-cd22b3cfb0ef",
   "metadata": {},
   "outputs": [],
   "source": []
  }
 ],
 "metadata": {
  "kernelspec": {
   "display_name": "Python 3 (ipykernel)",
   "language": "python",
   "name": "python3"
  },
  "language_info": {
   "codemirror_mode": {
    "name": "ipython",
    "version": 3
   },
   "file_extension": ".py",
   "mimetype": "text/x-python",
   "name": "python",
   "nbconvert_exporter": "python",
   "pygments_lexer": "ipython3",
   "version": "3.7.12"
  }
 },
 "nbformat": 4,
 "nbformat_minor": 5
}
