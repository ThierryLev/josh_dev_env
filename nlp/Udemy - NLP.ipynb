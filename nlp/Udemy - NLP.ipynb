{
 "cells": [
  {
   "cell_type": "code",
   "execution_count": null,
   "id": "30169bf1-9045-4795-8157-8fb084113c08",
   "metadata": {},
   "outputs": [],
   "source": [
    "import pandas as pd\n",
    "import numpy as np"
   ]
  },
  {
   "cell_type": "code",
   "execution_count": null,
   "id": "b2be0f57-6998-4925-8376-74ac8bf5bf44",
   "metadata": {},
   "outputs": [],
   "source": [
    "df = pd.read_csv('smsspamcollection.tsv', sep='\\t')"
   ]
  },
  {
   "cell_type": "code",
   "execution_count": null,
   "id": "13638379-445d-494e-9ae7-6d9c3985c493",
   "metadata": {},
   "outputs": [],
   "source": [
    "df.head()"
   ]
  },
  {
   "cell_type": "code",
   "execution_count": null,
   "id": "64cab524-a832-4a4d-9039-da2b92bdf3f2",
   "metadata": {},
   "outputs": [],
   "source": [
    "df.isnull().sum()"
   ]
  },
  {
   "cell_type": "code",
   "execution_count": null,
   "id": "e4d9d552-ddad-4acb-a87e-23e8e85d08d8",
   "metadata": {},
   "outputs": [],
   "source": [
    "len(df) "
   ]
  },
  {
   "cell_type": "code",
   "execution_count": null,
   "id": "8cd222c1-6ced-454e-b5e8-cb2a779c91c0",
   "metadata": {},
   "outputs": [],
   "source": [
    "df['label', 'message']"
   ]
  },
  {
   "cell_type": "code",
   "execution_count": null,
   "id": "797cc9fa-fb18-4b1f-b277-7a90dba4995f",
   "metadata": {},
   "outputs": [],
   "source": [
    "df['label'].value_counts()"
   ]
  },
  {
   "cell_type": "code",
   "execution_count": null,
   "id": "dfd505e4-ebc5-433c-8cc4-4fd2b1884f62",
   "metadata": {},
   "outputs": [],
   "source": [
    "import matplotlib.pyplot as plt \n",
    "%matplotlib inline \n",
    "\n",
    "plt.xscale('log') \n",
    "bins = 1.15**(np.arange(0,50)) \n",
    "plt.hist(df[df['label']=='ham']['length'], bins=bins, alpha=0.8) \n",
    "plt.hist(df[df['label']=='spam']['length'], bins=bins, alpha=0.8) \n",
    "plt.legend(('ham', 'spam')) \n",
    "plt.show() "
   ]
  },
  {
   "cell_type": "code",
   "execution_count": null,
   "id": "941d5a56-b579-4175-aa70-654a9e919e8e",
   "metadata": {},
   "outputs": [],
   "source": [
    "from sklearn.model_selection import train_test_split"
   ]
  },
  {
   "cell_type": "code",
   "execution_count": null,
   "id": "155b6ffa-5e69-4683-9721-9079b45a548e",
   "metadata": {},
   "outputs": [],
   "source": [
    "# X feature data \n",
    "X = df[['length', 'punct']]\n",
    "\n",
    "# y is our label\n",
    "y = df['label']\n",
    "\n",
    "X_train, X_test, y_train, y_test = train_test_split(X, y, test_size = 0.3, random_state = 42) "
   ]
  },
  {
   "cell_type": "code",
   "execution_count": null,
   "id": "b6b5e82c-7f45-46b2-b7ed-57f6ca201b76",
   "metadata": {},
   "outputs": [],
   "source": [
    "X_train.shape"
   ]
  },
  {
   "cell_type": "code",
   "execution_count": null,
   "id": "2fc603e0-5009-4b20-9dc8-dbf947be9344",
   "metadata": {},
   "outputs": [],
   "source": [
    "y_train.shape"
   ]
  },
  {
   "cell_type": "code",
   "execution_count": null,
   "id": "d9834099-618b-4f19-82ad-4c71b21320f2",
   "metadata": {},
   "outputs": [],
   "source": [
    "X_test.shape"
   ]
  },
  {
   "cell_type": "code",
   "execution_count": null,
   "id": "567d108f-405f-46f3-bd49-bdc7fd3e6fb9",
   "metadata": {},
   "outputs": [],
   "source": [
    "from sklearn.linear_model import LogisticRegression"
   ]
  },
  {
   "cell_type": "code",
   "execution_count": null,
   "id": "66514363-afd6-4f1d-b9da-f473c45b37f9",
   "metadata": {},
   "outputs": [],
   "source": [
    "lr_model = LogisticRegression(solver='lbfgs')"
   ]
  },
  {
   "cell_type": "code",
   "execution_count": null,
   "id": "900cb2ee-53c4-457a-aebb-51ec627e956c",
   "metadata": {},
   "outputs": [],
   "source": [
    "lr_model.fit(X_train, y_train) "
   ]
  },
  {
   "cell_type": "code",
   "execution_count": null,
   "id": "ae6661cb-9d10-4771-a27b-a479d3690ced",
   "metadata": {},
   "outputs": [],
   "source": [
    "from sklearn import metrics"
   ]
  },
  {
   "cell_type": "code",
   "execution_count": null,
   "id": "3cf7b0fe-46f9-4988-8fd8-fd6e856db56e",
   "metadata": {},
   "outputs": [],
   "source": [
    "predictions = lr_model.predict(X_test) "
   ]
  },
  {
   "cell_type": "code",
   "execution_count": null,
   "id": "2847ad1c-aa1d-4d0a-ae47-2b229a230675",
   "metadata": {},
   "outputs": [],
   "source": [
    "predictions"
   ]
  },
  {
   "cell_type": "code",
   "execution_count": null,
   "id": "36a01fda-1a95-4a44-bcb4-3c706565d347",
   "metadata": {},
   "outputs": [],
   "source": [
    "y_test"
   ]
  },
  {
   "cell_type": "code",
   "execution_count": null,
   "id": "0b02e269-bcbe-41ae-8004-e1a412d111b5",
   "metadata": {},
   "outputs": [],
   "source": [
    "print(metrics.confusion_matrix(y_test, predictions))"
   ]
  },
  {
   "cell_type": "code",
   "execution_count": null,
   "id": "cd05cf59-ce85-4e10-abf6-12e86bf62710",
   "metadata": {},
   "outputs": [],
   "source": [
    "df = pd.DataFrame(metrics.confusion_matrix(y_test,predictions), index=['ham', 'spam'], columns=['ham', 'spam']) \n",
    "df"
   ]
  },
  {
   "cell_type": "code",
   "execution_count": null,
   "id": "d09a91d8-a706-41b6-bc5d-c56b48946164",
   "metadata": {},
   "outputs": [],
   "source": [
    "print(metrics.classification_report(y_test,predictions)) "
   ]
  },
  {
   "cell_type": "code",
   "execution_count": null,
   "id": "97655e17-e88b-48c9-b984-d6b29c13f744",
   "metadata": {},
   "outputs": [],
   "source": [
    "metrics.accuracy_score(y_test,predictions) "
   ]
  },
  {
   "cell_type": "code",
   "execution_count": null,
   "id": "7dc1ec58-144d-4b37-b5f2-b969d94a6d28",
   "metadata": {},
   "outputs": [],
   "source": []
  }
 ],
 "metadata": {
  "kernelspec": {
   "display_name": "Python 3 (ipykernel)",
   "language": "python",
   "name": "python3"
  },
  "language_info": {
   "codemirror_mode": {
    "name": "ipython",
    "version": 3
   },
   "file_extension": ".py",
   "mimetype": "text/x-python",
   "name": "python",
   "nbconvert_exporter": "python",
   "pygments_lexer": "ipython3",
   "version": "3.8.12"
  }
 },
 "nbformat": 4,
 "nbformat_minor": 5
}
