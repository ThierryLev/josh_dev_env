{
 "cells": [
  {
   "cell_type": "code",
   "execution_count": null,
   "id": "2504e5dd-87b6-4b78-8cf0-b88421399603",
   "metadata": {},
   "outputs": [],
   "source": [
    "import logging\n",
    "\n",
    "# Set up logging\n",
    "logging.basicConfig(level=logging.DEBUG, format='%(asctime)s - %(levelname)s - %(message)s')\n",
    "# Debugging example\n",
    "def divide(a, b):\n",
    "    logging.debug(f\"Dividing {a} by {b}\")\n",
    "    result = a / b\n",
    "    logging.debug(f\"Result: {result}\")\n",
    "    return result"
   ]
  },
  {
   "cell_type": "code",
   "execution_count": null,
   "id": "077272d2-762a-4077-8475-8394d3844dda",
   "metadata": {},
   "outputs": [],
   "source": [
    "divide(5, 2)"
   ]
  },
  {
   "cell_type": "code",
   "execution_count": null,
   "id": "612ea505-faa4-40a8-8a9f-f60bbb0d90fd",
   "metadata": {},
   "outputs": [],
   "source": [
    "def sql_to_dataframe(sql, token: str): \n",
    "    from google.cloud import bigquery\n",
    "    from google.oauth2 import credentials\n",
    "\n",
    "    CREDENTIALS = google.oauth2.credentials.Credentials(token) # get credentials from token\n",
    "    client = bigquery.Client(project=project_id, credentials=CREDENTIALS)\n",
    "    df_target = client.query(sql).to_dataframe()\n",
    "\n",
    "    return df_target "
   ]
  },
  {
   "cell_type": "code",
   "execution_count": null,
   "id": "d09b0751-c924-40bc-9cd3-ee81c05ebbfd",
   "metadata": {},
   "outputs": [],
   "source": [
    "import google.oauth2.credentials\n",
    "token = !gcloud auth print-access-token\n",
    "token_str = token[0]\n",
    "\n",
    "project_id = 'divg-josh-pr-d1cc3a'\n",
    "dataset_id = 'breast_cancer'\n",
    "table_id = 'breast_cancer_X_val'\n",
    "\n",
    "sql = '''SELECT * FROM `{project_id}.{dataset_id}.{table_id}` '''.format(project_id=project_id,\n",
    "                                                                        dataset_id=dataset_id,\n",
    "                                                                        table_id=table_id,\n",
    "                                                                        )\n",
    "\n",
    "df = sql_to_dataframe(sql=sql, token=token_str)\n",
    "\n",
    "df.head() "
   ]
  },
  {
   "cell_type": "code",
   "execution_count": null,
   "id": "98d169d0-be67-42ab-981d-f6c82792076c",
   "metadata": {},
   "outputs": [],
   "source": []
  }
 ],
 "metadata": {
  "kernelspec": {
   "display_name": "Python 3 (ipykernel)",
   "language": "python",
   "name": "python3"
  },
  "language_info": {
   "codemirror_mode": {
    "name": "ipython",
    "version": 3
   },
   "file_extension": ".py",
   "mimetype": "text/x-python",
   "name": "python",
   "nbconvert_exporter": "python",
   "pygments_lexer": "ipython3",
   "version": "3.7.12"
  }
 },
 "nbformat": 4,
 "nbformat_minor": 5
}
