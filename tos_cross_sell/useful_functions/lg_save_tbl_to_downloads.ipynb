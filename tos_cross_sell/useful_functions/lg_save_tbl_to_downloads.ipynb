{
 "cells": [
  {
   "cell_type": "code",
   "execution_count": 1,
   "id": "cfc88fd4-ec8a-470a-a8a7-3788efd48c61",
   "metadata": {},
   "outputs": [
    {
     "name": "stdout",
     "output_type": "stream",
     "text": [
      "divg-churn-analysis-pr-7e40f6.SAStoGCP.ah_JK_230309b saved in gs://divg-josh-pr-d1cc3a-default/downloads/ah_JK_230309b.csv\n"
     ]
    }
   ],
   "source": [
    "import os\n",
    "import re\n",
    "import google\n",
    "from google.oauth2 import credentials\n",
    "from google.oauth2 import service_account\n",
    "from google.oauth2.service_account import Credentials\n",
    "import pandas as pd \n",
    "import numpy as np\n",
    "from google.cloud import bigquery\n",
    "from google.cloud import storage\n",
    "import gc\n",
    "import time\n",
    "\n",
    "#`divg-josh-pr-d1cc3a.campaign_performance_analysis.contract_expiry_and_discounts` \n",
    "\n",
    "project_id = 'divg-churn-analysis-pr-7e40f6' \n",
    "dataset_id = 'SAStoGCP'\n",
    "tbl_nm = 'ah_JK_230309b'\n",
    "save_data_path='gs://divg-josh-pr-d1cc3a-default/downloads/{}.csv'.format(tbl_nm)\n",
    "\n",
    "def get_gcp_bqclient(project_id, use_local_credential=True):\n",
    "    token = os.popen('gcloud auth print-access-token').read()\n",
    "    token = re.sub(f'\\n$', '', token)\n",
    "    credentials = google.oauth2.credentials.Credentials(token)\n",
    "\n",
    "    bq_client = bigquery.Client(project=project_id)\n",
    "    if use_local_credential:\n",
    "        bq_client = bigquery.Client(project=project_id, credentials=credentials)\n",
    "    return bq_client\n",
    "\n",
    "client = get_gcp_bqclient(project_id)\n",
    "\n",
    "data_set = f\"{project_id}.{dataset_id}.{tbl_nm}\" \n",
    "\n",
    "sql = '''SELECT * FROM `{data_set}`'''.format(data_set=data_set)\n",
    "\n",
    "df_export = client.query(sql).to_dataframe()\n",
    "\n",
    "df_export = df_export.reset_index()\n",
    "df_export.to_csv(save_data_path, index=False) \n",
    "\n",
    "print(f\"{data_set} saved in {save_data_path}\")\n"
   ]
  },
  {
   "cell_type": "code",
   "execution_count": null,
   "id": "0c0d6d62-67b7-4972-a6a3-5c1601a8cd6d",
   "metadata": {},
   "outputs": [],
   "source": []
  }
 ],
 "metadata": {
  "kernelspec": {
   "display_name": "Python 3 (ipykernel)",
   "language": "python",
   "name": "python3"
  },
  "language_info": {
   "codemirror_mode": {
    "name": "ipython",
    "version": 3
   },
   "file_extension": ".py",
   "mimetype": "text/x-python",
   "name": "python",
   "nbconvert_exporter": "python",
   "pygments_lexer": "ipython3",
   "version": "3.8.12"
  }
 },
 "nbformat": 4,
 "nbformat_minor": 5
}
