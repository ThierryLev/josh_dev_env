{
 "cells": [
  {
   "cell_type": "markdown",
   "id": "7b0f3b47-4bc3-4af6-ae8d-157c997c6640",
   "metadata": {},
   "source": [
    "### Import Libraries"
   ]
  },
  {
   "cell_type": "code",
   "execution_count": 1,
   "id": "640e3aea-81bf-46df-8d11-cfd55888753e",
   "metadata": {},
   "outputs": [
    {
     "data": {
      "text/plain": [
       "'2023_05_05'"
      ]
     },
     "execution_count": 1,
     "metadata": {},
     "output_type": "execute_result"
    }
   ],
   "source": [
    "# import required libraries\n",
    "# import kfp\n",
    "# from kfp import dsl\n",
    "# from kfp.v2.dsl import (Artifact, Dataset, Input, InputPath, Model, Output, HTML, OutputPath, ClassificationMetrics,\n",
    "#                         Metrics, component)\n",
    "# from kfp.v2 import compiler\n",
    "from dateutil.relativedelta import relativedelta\n",
    "\n",
    "# from google.cloud.aiplatform import pipeline_jobs\n",
    "# from google_cloud_pipeline_components.v1.batch_predict_job import \\\n",
    "#     ModelBatchPredictOp as batch_prediction_op\n",
    "from google.cloud import storage\n",
    "import os\n",
    "import re\n",
    "import google\n",
    "import datetime\n",
    "\n",
    "from google.oauth2 import credentials\n",
    "from google.oauth2 import service_account\n",
    "from google.oauth2.service_account import Credentials\n",
    "from dateutil.relativedelta import relativedelta\n",
    "\n",
    "from pathlib import Path\n",
    "from datetime import timedelta, date\n",
    "(datetime.datetime.now()-timedelta(hours=7)).strftime('%Y_%m_%d')\n"
   ]
  },
  {
   "cell_type": "markdown",
   "id": "35a6ca8e-4c78-454e-979c-0d16d849a3d4",
   "metadata": {},
   "source": [
    "### Parameters"
   ]
  },
  {
   "cell_type": "code",
   "execution_count": 2,
   "id": "2d1ec586-9466-4c7b-9ea8-7d4868feb5d1",
   "metadata": {
    "tags": [
     "parameters"
    ]
   },
   "outputs": [],
   "source": [
    "#tag cell with parameters\n",
    "PROJECT_ID =  'divg-josh-pr-d1cc3a'\n",
    "BUCKET_NAME='divg-josh-pr-d1cc3a-default'\n",
    "DATASET_ID = 'whsia_churn_dataset_v2'\n",
    "RESOURCES_BUCKET = 'divg-josh-pr-d1cc3a-default'\n",
    "FILE_BUCKET = 'divg-josh-pr-d1cc3a-default'\n",
    "REGION = 'northamerica-northeast1'\n",
    "\n",
    "# PROJECT_ID = f\"{PROJECT_ID}\"\n",
    "# DATASET_ID = 'whsia_churn_dataset_v2'\n",
    "# RESOURCE_BUCKET = f\"{PROJECT_ID}_bkt_whsia_churn_v2\"\n",
    "# FILE_BUCKET = f\"{PROJECT_ID}_bkt_whsia_churn_v2\""
   ]
  },
  {
   "cell_type": "markdown",
   "id": "0bbfe3ea-5346-449a-8e87-af3d61709e58",
   "metadata": {},
   "source": [
    "### Service Parameters"
   ]
  },
  {
   "cell_type": "code",
   "execution_count": 3,
   "id": "db71f8d9-bfb1-4102-948e-aa3d3cb549cb",
   "metadata": {},
   "outputs": [],
   "source": [
    "SERVICE_TYPE = 'whsia-churn-v2'\n",
    "TABLE_ID = 'bq_whsia_churn_score_v2'\n",
    "REGION = \"northamerica-northeast1\""
   ]
  },
  {
   "cell_type": "markdown",
   "id": "7065b765-6355-420b-b470-788d2a6d5519",
   "metadata": {},
   "source": [
    "### Pulumi Parameters"
   ]
  },
  {
   "cell_type": "code",
   "execution_count": 4,
   "id": "1256de31-6fcd-4891-93ac-f5c3e174270f",
   "metadata": {},
   "outputs": [],
   "source": [
    "STACK_NAME = 'whsia_churn_v2'\n",
    "SERVING_PIPELINE_NAME_PATH = 'whsia_churn_v2_model/serving-pipeline'\n",
    "PIPELINE_NAME = 'whsia-churn-v2-serving-pipeline' # Same name as pulumi.yaml\n",
    "PIPELINE_DESCRIPTION = 'whsia-churn-v2-serving-pipeline'\n",
    "REGION = \"northamerica-northeast1\""
   ]
  },
  {
   "cell_type": "markdown",
   "id": "81576940-f835-4ea9-bc1d-9628bb2be73b",
   "metadata": {},
   "source": [
    "### Query + Pre-Processing Component Parameters"
   ]
  },
  {
   "cell_type": "code",
   "execution_count": 5,
   "id": "4a74d026-c40e-49d0-8058-360fb08d7862",
   "metadata": {},
   "outputs": [],
   "source": [
    "QUERIES_PATH = f\"{STACK_NAME}/queries/\" #check\n",
    "UTILS_FILE_PATH = f\"{STACK_NAME}/{SERVING_PIPELINE_NAME_PATH}/utils\" # check\n",
    "UTILS_FILENAME = 'utils.py'\n",
    "\n",
    "PROCESSED_SERVING_DATA_TABLENAME = 'processed_serving_data'\n",
    "INPUT_SERVING_DATA_TABLENAME = 'input_serving_data'\n",
    "\n",
    "QUERY_DATE = (date.today() - relativedelta(days=1)).strftime('%Y-%m-%d')\n",
    "wHSIA_QUERY_VIEW_NAME = 'whsia_query_path_view'\n",
    "wHSIA_QUERY_PATH = QUERIES_PATH + 'whsia_test_qry_v5.txt'\n",
    "TARGET_TABLE_REF = '{}.{}.{}'.format(PROJECT_ID, DATASET_ID, TABLE_ID)"
   ]
  },
  {
   "cell_type": "markdown",
   "id": "3fa92aae-6840-498d-8e1a-25a3ac04ab67",
   "metadata": {},
   "source": [
    "### Import Pipeline Components"
   ]
  },
  {
   "cell_type": "code",
   "execution_count": 6,
   "id": "ec2f6c90-969f-479a-8b85-aa532c37f57b",
   "metadata": {},
   "outputs": [],
   "source": [
    "# # download required component files to local\n",
    "# prefix = f'{STACK_NAME}/{SERVING_PIPELINE_NAME_PATH}/components/'\n",
    "# dl_dir = 'components/'\n",
    "\n",
    "# storage_client = storage.Client()\n",
    "# bucket = storage_client.bucket(RESOURCES_BUCKET)\n",
    "# blobs = bucket.list_blobs(prefix=prefix)  # Get list of files\n",
    "# for blob in blobs: # download each file that starts with \"prefix\" into \"dl_dir\"\n",
    "#     if blob.name.endswith(\"/\"):\n",
    "#         continue\n",
    "#     file_split = blob.name.split(prefix)\n",
    "#     file_path = f\"{dl_dir}{file_split[-1]}\"\n",
    "#     directory = \"/\".join(file_path.split(\"/\")[0:-1])\n",
    "#     Path(directory).mkdir(parents=True, exist_ok=True)\n",
    "#     blob.download_to_filename(file_path) \n",
    "\n",
    "# # import main pipeline components\n",
    "from components.create_wHSIA_view import create_wHSIA_view\n",
    "from components.wHSIA_processing import wHSIA_processing\n",
    "\n",
    "# import components"
   ]
  },
  {
   "cell_type": "markdown",
   "id": "3044410d-b1c7-4729-853c-7a5c0422795e",
   "metadata": {},
   "source": [
    "### Pipeline"
   ]
  },
  {
   "cell_type": "code",
   "execution_count": 7,
   "id": "b795a341-a37d-4de3-adc1-1b19b7d78e84",
   "metadata": {},
   "outputs": [],
   "source": [
    "\n",
    "def pipeline(\n",
    "        project_id: str = PROJECT_ID,\n",
    "        region: str = REGION,\n",
    "        resource_bucket: str = RESOURCES_BUCKET\n",
    "):\n",
    "\n",
    "    # -------------  create ops ---------------\n",
    "    create_wHSIA_view_op = create_wHSIA_view(\n",
    "        view_name=wHSIA_QUERY_VIEW_NAME,\n",
    "        query_date=QUERY_DATE,\n",
    "        project_id=PROJECT_ID,\n",
    "        dataset_id=DATASET_ID,\n",
    "        region=REGION,\n",
    "        resource_bucket=RESOURCES_BUCKET,\n",
    "        query_path=wHSIA_QUERY_PATH\n",
    "    )        \n",
    "\n",
    "    wHSIA_processing_op = wHSIA_processing(\n",
    "        view_name=wHSIA_QUERY_VIEW_NAME,\n",
    "        project_id=PROJECT_ID,\n",
    "        dataset_id=DATASET_ID,\n",
    "        table_id=TABLE_ID,\n",
    "        query_date=QUERY_DATE,\n",
    "        file_bucket=FILE_BUCKET\n",
    "    )\n",
    "    \n",
    "    create_wHSIA_view_op\n",
    "    wHSIA_processing_op\n",
    "    \n",
    "    \n",
    "    \n",
    "    "
   ]
  },
  {
   "cell_type": "code",
   "execution_count": 8,
   "id": "80511e5f-a2c8-4ca7-91b3-d52dc136c01f",
   "metadata": {
    "tags": []
   },
   "outputs": [
    {
     "name": "stdout",
     "output_type": "stream",
     "text": [
      "......wHSIA table generated with 10000 samples\n",
      "...... will upsert 6 batches\n",
      "(10000, 4)\n",
      "0 batch upserted\n",
      "(2000, 4)\n",
      "         ban  score_date model_id     score\n",
      "0  223486692  2023-03-31     5070  0.187654\n",
      "1  224096547  2023-03-31     5070  0.188406\n",
      "2  223574390  2023-03-31     5070  0.192973\n",
      "3  224038121  2023-03-31     5070  0.189203\n",
      "4  223559295  2023-03-31     5070  0.188361\n",
      "5  223870384  2023-03-31     5070  0.192520\n",
      "6  224098889  2023-03-31     5070  0.188410\n",
      "7  223534219  2023-03-31     5070  0.187599\n",
      "8  223874236  2023-03-31     5070  0.189648\n",
      "9  224165398  2023-03-31     5070  0.192842\n",
      "predict for batch 0 done 1 batch upserted\n",
      "(2000, 4)\n",
      "            ban  score_date model_id     score\n",
      "2000  600214073  2023-03-31     5070  0.189777\n",
      "2001  600884473  2023-03-31     5070  0.199707\n",
      "2002  600771631  2023-03-31     5070  0.192397\n",
      "2003  600590787  2023-03-31     5070  0.190089\n",
      "2004  600799465  2023-03-31     5070  0.188040\n",
      "2005  600426533  2023-03-31     5070  0.187996\n",
      "2006  600204825  2023-03-31     5070  0.192217\n",
      "2007  600573735  2023-03-31     5070  0.189070\n",
      "2008  600699551  2023-03-31     5070  0.192606\n",
      "2009  600689730  2023-03-31     5070  0.189267\n",
      "2 batch upserted\n",
      "(2000, 4)\n",
      "            ban  score_date model_id     score\n",
      "4000  602950111  2023-03-31     5070  0.189753\n",
      "4001  602901701  2023-03-31     5070  0.188156\n",
      "4002  602975001  2023-03-31     5070  0.187586\n",
      "4003  602901850  2023-03-31     5070  0.188870\n",
      "4004  602790221  2023-03-31     5070  0.188488\n",
      "4005  602791339  2023-03-31     5070  0.188986\n",
      "4006  602902452  2023-03-31     5070  0.187602\n",
      "4007  602974297  2023-03-31     5070  0.187745\n",
      "4008  602972561  2023-03-31     5070  0.189343\n",
      "4009  602734229  2023-03-31     5070  0.187712\n",
      "3 batch upserted\n",
      "(2000, 4)\n",
      "            ban  score_date model_id     score\n",
      "6000  604992354  2023-03-31     5070  0.188424\n",
      "6001  604959371  2023-03-31     5070  0.187663\n",
      "6002  605002078  2023-03-31     5070  0.187818\n",
      "6003  604978908  2023-03-31     5070  0.187602\n",
      "6004  604914092  2023-03-31     5070  0.188372\n",
      "6005  604979601  2023-03-31     5070  0.187662\n",
      "6006  605014836  2023-03-31     5070  0.188009\n",
      "6007  605015409  2023-03-31     5070  0.187616\n",
      "6008  605015181  2023-03-31     5070  0.188121\n",
      "6009  604991690  2023-03-31     5070  0.187827\n",
      "4 batch upserted\n",
      "(2000, 4)\n",
      "            ban  score_date model_id     score\n",
      "8000  603837233  2023-03-31     5070  0.188783\n",
      "8001  603971804  2023-03-31     5070  0.187445\n",
      "8002  603839573  2023-03-31     5070  0.187662\n",
      "8003  603968687  2023-03-31     5070  0.187203\n",
      "8004  603971272  2023-03-31     5070  0.188588\n",
      "8005  603949412  2023-03-31     5070  0.188098\n",
      "8006  603990299  2023-03-31     5070  0.192337\n",
      "8007  603838721  2023-03-31     5070  0.192656\n",
      "8008  603934704  2023-03-31     5070  0.189208\n",
      "8009  603965560  2023-03-31     5070  0.189057\n",
      "5 batch upserted\n",
      "(0, 4)\n",
      "Empty DataFrame\n",
      "Columns: [ban, score_date, model_id, score]\n",
      "Index: []\n"
     ]
    }
   ],
   "source": [
    "pipeline(project_id = PROJECT_ID, region = REGION, resource_bucket = RESOURCES_BUCKET)"
   ]
  },
  {
   "cell_type": "markdown",
   "id": "5bfc4578-bf70-452a-beac-9aadcdbca185",
   "metadata": {},
   "source": [
    "### Run the Pipeline Job"
   ]
  },
  {
   "cell_type": "code",
   "execution_count": 9,
   "id": "62938cb0-5caa-4083-8f79-7eb096572f09",
   "metadata": {},
   "outputs": [],
   "source": [
    "# from kfp.v2 import compiler\n",
    "# from google.cloud.aiplatform import pipeline_jobs\n",
    "\n",
    "# import json\n",
    "\n",
    "# compiler.Compiler().compile(\n",
    "#    pipeline_func=pipeline, package_path=\"pipeline.json\"\n",
    "# )\n",
    "\n",
    "# job = pipeline_jobs.PipelineJob(\n",
    "#                                display_name=PIPELINE_NAME,\n",
    "#                                template_path=\"pipeline.json\",\n",
    "#                                location=REGION,\n",
    "#                                enable_caching=False,\n",
    "#                                pipeline_root = f\"gs://{RESOURCES_BUCKET}\"\n",
    "# )\n",
    "# job.run(\n",
    "#    service_account = f\"bilayer-sa@{PROJECT_ID}.iam.gserviceaccount.com\"\n",
    "# )"
   ]
  }
 ],
 "metadata": {
  "kernelspec": {
   "display_name": "Python 3 (ipykernel)",
   "language": "python",
   "name": "python3"
  },
  "language_info": {
   "codemirror_mode": {
    "name": "ipython",
    "version": 3
   },
   "file_extension": ".py",
   "mimetype": "text/x-python",
   "name": "python",
   "nbconvert_exporter": "python",
   "pygments_lexer": "ipython3",
   "version": "3.8.12"
  }
 },
 "nbformat": 4,
 "nbformat_minor": 5
}
