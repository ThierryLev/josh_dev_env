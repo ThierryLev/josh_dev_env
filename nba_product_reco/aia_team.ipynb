{
 "cells": [
  {
   "cell_type": "code",
   "execution_count": null,
   "id": "d0d20f22-15fc-41d5-a0d9-3fe012d3d0f9",
   "metadata": {},
   "outputs": [],
   "source": [
    "# import global modules\n",
    "import os\n",
    "import re\n",
    "import sys\n",
    "import time\n",
    "import json\n",
    "import pickle\n",
    "import numpy as np\n",
    "import pandas as pd\n",
    "from pathlib import Path\n",
    "from yaml import safe_load\n",
    "\n",
    "# Set global vars\n",
    "pth_project = Path(os.getcwd().split('notebooks')[0])\n",
    "pth_data = pth_project / 'data'\n",
    "pth_utils = pth_project / 'utils'\n",
    "pth_queries = pth_project / 'queries'\n",
    "pth_creds = pth_project / 'conf' / 'local' / 'project_config.yaml'\n",
    "sys.path.insert(0, pth_project.as_posix())\n",
    "d_config = safe_load(pth_creds.open())\n",
    "\n",
    "# import local modules\n",
    "from utils.gcp import connect_bq_services\n",
    "from utils.extract import extract_bq_data\n",
    "from utils.modeling import extract_stats"
   ]
  },
  {
   "cell_type": "code",
   "execution_count": null,
   "id": "80312ba2-0be7-4c47-9bd1-b83198ddacf8",
   "metadata": {},
   "outputs": [],
   "source": [
    "bq_client = connect_bq_services(d_config['gcp-project-name'])"
   ]
  },
  {
   "cell_type": "code",
   "execution_count": null,
   "id": "8e6aeaa9-05fc-48f2-af11-ac0ccc813988",
   "metadata": {},
   "outputs": [],
   "source": [
    "%load_ext autoreload\n",
    "%autoreload 2"
   ]
  },
  {
   "cell_type": "code",
   "execution_count": null,
   "id": "af2ea47a-6570-4da0-9cc4-dc522fb08c4a",
   "metadata": {},
   "outputs": [],
   "source": [
    "pth_queries"
   ]
  },
  {
   "cell_type": "markdown",
   "id": "14550ea5-3ed7-4fe9-a45e-cd7fc6ae7057",
   "metadata": {},
   "source": [
    "#### Extract data"
   ]
  },
  {
   "cell_type": "code",
   "execution_count": null,
   "id": "d1cca01f-6fc0-44bf-98c8-cce647e68bb5",
   "metadata": {},
   "outputs": [],
   "source": [
    "sql = (pth_queries / 'extract_aia_predictions.sql').read_text()\n",
    "df_results = extract_bq_data(bq_client, sql)\n",
    "df_results.shape"
   ]
  },
  {
   "cell_type": "code",
   "execution_count": null,
   "id": "fcf73858-1c35-4f51-b0fa-16beae0d6a25",
   "metadata": {},
   "outputs": [],
   "source": [
    "d_target_mapping = {\n",
    " 'sing_acquisition': 0,\n",
    " 'shs_acquisition': 1,\n",
    " 'tos_acquisition': 2,\n",
    " 'wifi_acquisition': 3,\n",
    " 'ttv_acquisition': 4,\n",
    " 'sws_acquisition': 5,\n",
    " 'hsic_acquisition': 6,\n",
    " 'lwc_acquisition': 7,\n",
    " 'hpro_acquisition': 8,\n",
    " 'whsia_acquisition': 9,\n",
    "}\n",
    "\n",
    "d_target_mapping"
   ]
  },
  {
   "cell_type": "markdown",
   "id": "831a1cb6-4311-4808-8d32-b924641c0d18",
   "metadata": {},
   "source": [
    "#### Process data"
   ]
  },
  {
   "cell_type": "code",
   "execution_count": null,
   "id": "81d8b68f-5735-4a43-89d6-71e31c17395f",
   "metadata": {},
   "outputs": [],
   "source": [
    "df_results.head()"
   ]
  },
  {
   "cell_type": "code",
   "execution_count": null,
   "id": "cd929c39-a47a-4398-9692-8276a3f542df",
   "metadata": {},
   "outputs": [],
   "source": [
    "# get predicted columns\n",
    "l_pred_cols = [c for c in df_results.columns if '_predicted_score_calibrated' in c]\n",
    "len(l_pred_cols)"
   ]
  },
  {
   "cell_type": "code",
   "execution_count": null,
   "id": "2fd83534-16f5-4730-b0ec-95d152fb4dc1",
   "metadata": {},
   "outputs": [],
   "source": [
    "# get label columns\n",
    "l_label_cols = [c for c in df_results.columns if '_label' in c]\n",
    "len(l_label_cols)"
   ]
  },
  {
   "cell_type": "code",
   "execution_count": null,
   "id": "590eff68-d6d4-44bc-b313-778624a0f914",
   "metadata": {},
   "outputs": [],
   "source": [
    "l_label_cols"
   ]
  },
  {
   "cell_type": "code",
   "execution_count": null,
   "id": "9f441e67-500f-4838-8f37-a41c34205483",
   "metadata": {},
   "outputs": [],
   "source": [
    "# aggregate labels\n",
    "df_results['model_scenario'] = df_results.apply(\n",
    "    lambda row: [\n",
    "        label.replace('_label', '_acquisition') for label in l_label_cols \n",
    "        if pd.notnull(row[label]) and row[label] == 1\n",
    "    ], axis=1\n",
    ")"
   ]
  },
  {
   "cell_type": "code",
   "execution_count": null,
   "id": "a886cab7-d5cb-4488-b87d-5bf1edbb0ba3",
   "metadata": {},
   "outputs": [],
   "source": [
    "df_results.head()"
   ]
  },
  {
   "cell_type": "code",
   "execution_count": null,
   "id": "803ef4df-d92f-40af-bbcc-d6fb3cfff031",
   "metadata": {},
   "outputs": [],
   "source": [
    "#df_results[['model_scenario'] + l_label_cols]"
   ]
  },
  {
   "cell_type": "code",
   "execution_count": null,
   "id": "da5cf5c1-c656-4c83-83b6-a5883cedd44d",
   "metadata": {},
   "outputs": [],
   "source": [
    "# explode labels\n",
    "df_res_exploded = df_results.explode('model_scenario')"
   ]
  },
  {
   "cell_type": "code",
   "execution_count": null,
   "id": "753e73f9-e5a5-4783-8cc9-ac6f03e1e6ee",
   "metadata": {},
   "outputs": [],
   "source": [
    "df_res_exploded['model_scenario'].value_counts()"
   ]
  },
  {
   "cell_type": "code",
   "execution_count": null,
   "id": "9a4d759e-5441-479d-9559-995222301ea6",
   "metadata": {},
   "outputs": [],
   "source": [
    "# create target indexes\n",
    "df_res_exploded['target'] = df_res_exploded['model_scenario'].map(d_target_mapping)"
   ]
  },
  {
   "cell_type": "code",
   "execution_count": null,
   "id": "004573fd-97b7-4fb4-a3d3-317c5d876ebb",
   "metadata": {},
   "outputs": [],
   "source": [
    "df_res_exploded.head()"
   ]
  },
  {
   "cell_type": "markdown",
   "id": "604f4dc5-4598-4536-a479-81128dc6709e",
   "metadata": {},
   "source": [
    "#### Results"
   ]
  },
  {
   "cell_type": "code",
   "execution_count": null,
   "id": "a9a3a49a-78ce-4ad3-bdc4-dd3fb20edb37",
   "metadata": {},
   "outputs": [],
   "source": [
    "# creta list with same order of label indexes\n",
    "l_pred_ordered = [label.replace('_acquisition', '_predicted_score_calibrated') for label in d_target_mapping.keys()]\n",
    "len(l_pred_ordered), set(l_pred_ordered) == set(l_pred_cols)"
   ]
  },
  {
   "cell_type": "code",
   "execution_count": null,
   "id": "a6781ffd-bf05-4748-9983-ec9a39f5f0cc",
   "metadata": {},
   "outputs": [],
   "source": [
    "probabilities =  df_res_exploded[l_pred_ordered].to_numpy()\n",
    "results_ranked = np.argsort(-probabilities, axis=1)\n",
    "for n in (1, 2, 3):\n",
    "    display(extract_stats(n, results_ranked, df_res_exploded['target'], d_target_mapping))"
   ]
  },
  {
   "cell_type": "markdown",
   "id": "07f4422b-e046-4728-a18f-67683a25d0c8",
   "metadata": {},
   "source": [
    "#### Naive approche"
   ]
  },
  {
   "cell_type": "code",
   "execution_count": null,
   "id": "a290dfa3-275f-4fbc-b2e9-96a5fdc14302",
   "metadata": {},
   "outputs": [],
   "source": [
    "for model_type in ('volume_only', 'random_only', 'random_weighted'):\n",
    "    print(model_type)\n",
    "    \n",
    "    probabilities = naive_model_predict_proba(\n",
    "        df_res_exploded, 'target', d_target_mapping, score_type = model_type,\n",
    "        eligible_rule = False, existing_prod_rule = False,\n",
    "    )\n",
    "    results_ranked = np.argsort(-probabilities, axis=1)\n",
    "    display(extract_stats(n, results_ranked, df_res_exploded['target'], d_target_mapping))"
   ]
  },
  {
   "cell_type": "code",
   "execution_count": null,
   "id": "6d8ced16-abeb-4432-9bdc-d3a842f48e19",
   "metadata": {},
   "outputs": [],
   "source": []
  }
 ],
 "metadata": {
  "environment": {
   "kernel": "python3",
   "name": ".m116",
   "type": "gcloud",
   "uri": "us-docker.pkg.dev/deeplearning-platform-release/gcr.io/:m116"
  },
  "kernelspec": {
   "display_name": "Python 3 (ipykernel)",
   "language": "python",
   "name": "python3"
  },
  "language_info": {
   "codemirror_mode": {
    "name": "ipython",
    "version": 3
   },
   "file_extension": ".py",
   "mimetype": "text/x-python",
   "name": "python",
   "nbconvert_exporter": "python",
   "pygments_lexer": "ipython3",
   "version": "3.7.12"
  }
 },
 "nbformat": 4,
 "nbformat_minor": 5
}
