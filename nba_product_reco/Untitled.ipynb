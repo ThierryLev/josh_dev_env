{
 "cells": [
  {
   "cell_type": "code",
   "execution_count": null,
   "id": "fbc14685-be81-4f21-9009-3afc86f9c24b",
   "metadata": {},
   "outputs": [],
   "source": [
    "import pandas as pd\n",
    "import numpy as np\n",
    "\n",
    "# Create a dictionary with 5 integer columns\n",
    "data = {\n",
    "    'col1': np.random.randint(0, 100, size=10),\n",
    "    'col2': np.random.randint(0, 100, size=10),\n",
    "    'col3': np.random.randint(0, 100, size=10),\n",
    "    'col4': np.random.randint(0, 100, size=10),\n",
    "    'col5': np.random.randint(0, 100, size=10)\n",
    "}\n",
    "\n",
    "# Create DataFrame\n",
    "df = pd.DataFrame(data)\n",
    "\n",
    "# Display DataFrame\n",
    "print(df)\n"
   ]
  },
  {
   "cell_type": "code",
   "execution_count": null,
   "id": "2964d9bf-b2fd-424e-bfd1-f5c43c647ce4",
   "metadata": {},
   "outputs": [],
   "source": [
    "weights = np.array([0.1, 0.2, 0.3, 0.4, 0.5])\n",
    "\n",
    "print(weights)"
   ]
  },
  {
   "cell_type": "code",
   "execution_count": null,
   "id": "3a8c45c0-6925-4bed-9d90-97f98af6877b",
   "metadata": {},
   "outputs": [],
   "source": [
    "df * weights"
   ]
  },
  {
   "cell_type": "code",
   "execution_count": null,
   "id": "2c4b8295-d330-4d69-ab53-1fb34932e83b",
   "metadata": {},
   "outputs": [],
   "source": []
  }
 ],
 "metadata": {
  "environment": {
   "kernel": "python3",
   "name": ".m116",
   "type": "gcloud",
   "uri": "us-docker.pkg.dev/deeplearning-platform-release/gcr.io/:m116"
  },
  "kernelspec": {
   "display_name": "Python 3 (ipykernel)",
   "language": "python",
   "name": "python3"
  },
  "language_info": {
   "codemirror_mode": {
    "name": "ipython",
    "version": 3
   },
   "file_extension": ".py",
   "mimetype": "text/x-python",
   "name": "python",
   "nbconvert_exporter": "python",
   "pygments_lexer": "ipython3",
   "version": "3.7.12"
  }
 },
 "nbformat": 4,
 "nbformat_minor": 5
}
