{
 "cells": [
  {
   "cell_type": "code",
   "execution_count": null,
   "id": "2c6dc6e5-5e6d-47d1-92b4-145c5fcf5a63",
   "metadata": {},
   "outputs": [],
   "source": [
    "# !pip install tensorflow\n",
    "# !pip install matplotlib\n",
    "# !pip install retrying\n",
    "# !pip install scikit-learn\n",
    "# !pip install imblearn"
   ]
  },
  {
   "cell_type": "code",
   "execution_count": null,
   "id": "a02b5d6a-8a6a-432c-aa9f-01c46c9f9b4d",
   "metadata": {},
   "outputs": [],
   "source": [
    "# import global modules\n",
    "import os\n",
    "import re\n",
    "import sys\n",
    "import time\n",
    "import json\n",
    "import pickle\n",
    "import numpy as np\n",
    "import pandas as pd\n",
    "from pathlib import Path\n",
    "from yaml import safe_load\n",
    "import matplotlib.pyplot as plt\n",
    "from sklearn.impute import SimpleImputer\n",
    "from sklearn.metrics import accuracy_score\n",
    "from scipy.stats import uniform, randint\n",
    "from sklearn.model_selection import cross_val_score, GridSearchCV, KFold, RandomizedSearchCV, train_test_split\n",
    "from sklearn.linear_model import LogisticRegression\n",
    "from sklearn.ensemble import RandomForestClassifier\n",
    "from sklearn.svm import SVC\n",
    "from sklearn.preprocessing import MinMaxScaler, StandardScaler\n",
    "import tensorflow as tf\n",
    "from tensorflow.keras.models import Sequential\n",
    "from tensorflow.keras.layers import Dense\n",
    "from tensorflow.keras.metrics import Recall\n",
    "from imblearn.over_sampling import RandomOverSampler, SMOTE\n",
    "\n",
    "# Set global vars\n",
    "pth_project = Path(os.getcwd().split('notebooks')[0])\n",
    "pth_data = pth_project / 'data'\n",
    "pth_utils = pth_project / 'utils'\n",
    "pth_queries = pth_project / 'queries'\n",
    "pth_creds = pth_project / 'conf' / 'local' / 'project_config.yaml'\n",
    "pth_recommenders = pth_data / 'recommenders'\n",
    "sys.path.insert(0, pth_project.as_posix())\n",
    "d_config = safe_load(pth_creds.open())\n",
    "\n",
    "# import local modules\n",
    "from utils.gcp import connect_bq_services, connect_pandas_bq_services\n",
    "from utils.extract import extract_bq_data\n",
    "from utils.modeling import process_features, extract_stats"
   ]
  },
  {
   "cell_type": "code",
   "execution_count": null,
   "id": "3bc69db0-7ad3-48a0-90ac-4f803d34d410",
   "metadata": {},
   "outputs": [],
   "source": [
    "bq_client = connect_bq_services(d_config['gcp-project-name'])"
   ]
  },
  {
   "cell_type": "code",
   "execution_count": null,
   "id": "9c1f062a-260b-4add-b76f-af134a9e9bbc",
   "metadata": {},
   "outputs": [],
   "source": [
    "%load_ext autoreload\n",
    "%autoreload 2"
   ]
  },
  {
   "cell_type": "markdown",
   "id": "092b6ad1-e8fb-4a16-86c7-ea8f573cfa44",
   "metadata": {},
   "source": [
    "#### Extract data"
   ]
  },
  {
   "cell_type": "code",
   "execution_count": null,
   "id": "a5f54d5d-7114-4173-afb2-fba807c0c37b",
   "metadata": {},
   "outputs": [],
   "source": [
    "# extract trainning data\n",
    "sql = f\"\"\"\n",
    "  select *\n",
    "    from `divg-team-v03-pr-de558a.nba_product_reco_model.nba_training_dataset_v8`\n",
    "\"\"\"\n",
    "df_train = extract_bq_data(bq_client, sql)\n",
    "print(df_train.shape)\n",
    "\n",
    "# extract validation data\n",
    "sql = f\"\"\"\n",
    "  select *\n",
    "    from `divg-team-v03-pr-de558a.nba_product_reco_model.nba_test_dataset_v8` \n",
    "\"\"\"\n",
    "df_validation = extract_bq_data(bq_client, sql)\n",
    "print(df_validation.shape)"
   ]
  },
  {
   "cell_type": "markdown",
   "id": "e1fe0f0f-daef-481a-b7e5-d3cb71b87d1d",
   "metadata": {},
   "source": [
    "#### Process data"
   ]
  },
  {
   "cell_type": "code",
   "execution_count": null,
   "id": "67c60ae5-a241-4401-ae9a-88a8a5f259ba",
   "metadata": {},
   "outputs": [],
   "source": [
    "d_target_mapping = {\n",
    " 'sing_acquisition': 0,\n",
    " 'shs_acquisition': 1,\n",
    " 'tos_acquisition': 2,\n",
    " 'wifi_acquisition': 3,\n",
    " 'ttv_acquisition': 4,\n",
    " 'sws_acquisition': 5,\n",
    " 'hsic_acquisition': 6,\n",
    " 'lwc_acquisition': 7,\n",
    " 'hpro_acquisition': 8,\n",
    " 'whsia_acquisition': 9\n",
    "}\n",
    "\n",
    "# load features metadata\n",
    "d_features_metadata = safe_load((pth_utils / 'parameters' / 'acquisition_features_v7.yaml').open())\n",
    "\n",
    "# process training data\n",
    "df_train_processed = process_features(df_train, d_features_metadata, 'model_scenario', d_target_mapping)\n",
    "df_validation_processed = process_features(df_validation, d_features_metadata, 'model_scenario', d_target_mapping)"
   ]
  },
  {
   "cell_type": "code",
   "execution_count": null,
   "id": "73fbcc38-7b88-48aa-a9ff-0de0727d0ab3",
   "metadata": {},
   "outputs": [],
   "source": [
    "# df_train_all_num = df_train[df_train.select_dtypes(exclude=['object']).columns]\n",
    "# df_validation_all_num = df_validation[df_train_all_num.columns]"
   ]
  },
  {
   "cell_type": "code",
   "execution_count": null,
   "id": "5be7a2a6-fd87-4236-969c-563e327847f9",
   "metadata": {},
   "outputs": [],
   "source": [
    "# df_train_all_num_dropped = df_train_all_num.drop(\n",
    "#     columns=['cust_src_id', 'ban', 'ban_src_id', 'lpds_id',\t'label']\n",
    "# ).fillna(0)\n",
    "\n",
    "# df_validation_all_num_dropped = df_validation_all_num.drop(\n",
    "#     columns=['cust_src_id', 'ban', 'ban_src_id', 'lpds_id',\t'label']\n",
    "# ).fillna(0)"
   ]
  },
  {
   "cell_type": "code",
   "execution_count": null,
   "id": "25268ff4-74c9-408a-90c6-da14518d54c5",
   "metadata": {},
   "outputs": [],
   "source": [
    "X = df_train_processed.drop(columns=['target'])\n",
    "#X = df_train_all_num_dropped\n",
    "y = df_train_processed['target']\n",
    "\n",
    "X_val = df_validation_processed.drop(columns=['target'])\n",
    "#X_val = df_validation_all_num_dropped\n",
    "y_val = df_validation_processed['target']\n",
    "\n",
    "# split train and test data\n",
    "X_train, X_test, y_train, y_test = train_test_split(X, y, test_size=0.3, random_state=42)"
   ]
  },
  {
   "cell_type": "code",
   "execution_count": null,
   "id": "148c2016-ea0c-4ccb-854c-ee3b67b3ffe7",
   "metadata": {},
   "outputs": [],
   "source": [
    "# Calculate normalization parameters on the training data\n",
    "scaler = StandardScaler()\n",
    "scaler.fit(X_train)\n",
    "\n",
    "# Apply normalization to the training data\n",
    "X_train_normalized = scaler.transform(X_train)\n",
    "\n",
    "# Apply normalization to the validation data using the same parameters\n",
    "X_test_normalized = scaler.transform(X_test)\n",
    "X_val_normalized = scaler.transform(X_val)"
   ]
  },
  {
   "cell_type": "code",
   "execution_count": null,
   "id": "9b4c78f8-8a66-46ba-a5ac-19acd5a341e0",
   "metadata": {},
   "outputs": [],
   "source": [
    "# Apply random oversampling to balance the dataset\n",
    "# sampling = RandomOverSampler(random_state=42, sampling_strategy=sampling_strategy)\n",
    "# sampling = SMOTE(random_state=42)\n",
    "\n",
    "# X_train_resampled, y_train_resampled = sampling.fit_resample(X_train_normalized.astype('float'), y_train)"
   ]
  },
  {
   "cell_type": "markdown",
   "id": "4e8c527d-366a-4fb3-930d-c4b12ea28f2d",
   "metadata": {},
   "source": [
    "#### Model"
   ]
  },
  {
   "cell_type": "code",
   "execution_count": null,
   "id": "05702444-60bc-4373-b2c6-eb07ae8d09a3",
   "metadata": {},
   "outputs": [],
   "source": [
    "input_size = len(X_train.columns)\n",
    "output_size = len(d_target_mapping.keys())\n",
    "input_size, output_size"
   ]
  },
  {
   "cell_type": "code",
   "execution_count": null,
   "id": "56f22fb2-e7e7-4bde-a21f-b1698f879c83",
   "metadata": {},
   "outputs": [],
   "source": [
    "# Create the model\n",
    "model = Sequential()\n",
    "model.add(Dense(64, activation='relu', input_dim=input_size))\n",
    "model.add(Dense(200, activation='relu'))\n",
    "model.add(Dense(output_size, activation='softmax'))\n",
    "\n",
    "\n",
    "# Compile the model\n",
    "model.compile(loss=tf.keras.losses.SparseCategoricalCrossentropy(), optimizer='adam', metrics=[tf.keras.metrics.SparseTopKCategoricalAccuracy(k=3)])"
   ]
  },
  {
   "cell_type": "code",
   "execution_count": null,
   "id": "2bff15fe-61c2-43aa-8da9-0e2039a2445a",
   "metadata": {},
   "outputs": [],
   "source": [
    "# Train the model\n",
    "model.fit(X_train_normalized, y_train, epochs=1000, batch_size=4096, validation_data=(X_test_normalized, y_test))"
   ]
  },
  {
   "cell_type": "code",
   "execution_count": null,
   "id": "d5694086-cf64-4aa2-be5a-5ddf4747fa88",
   "metadata": {},
   "outputs": [],
   "source": [
    "for n in (1, 2, 3):\n",
    "    probabilities =  model.predict(X_val_normalized)\n",
    "    results_ranked = np.argsort(-probabilities, axis=1)\n",
    "    display(extract_stats(n, results_ranked, y_val, d_target_mapping))"
   ]
  },
  {
   "cell_type": "code",
   "execution_count": null,
   "id": "82a698a0-d342-49af-9e96-8f52e5a1625b",
   "metadata": {},
   "outputs": [],
   "source": []
  },
  {
   "cell_type": "code",
   "execution_count": null,
   "id": "9da10f49-2e74-426f-b9f4-928ca09182fe",
   "metadata": {},
   "outputs": [],
   "source": []
  },
  {
   "cell_type": "code",
   "execution_count": null,
   "id": "9a88803a-ca40-4470-bced-d4b9cd6ca12e",
   "metadata": {},
   "outputs": [],
   "source": []
  },
  {
   "cell_type": "code",
   "execution_count": null,
   "id": "da443cf4-4ed6-4eca-8db1-9d62f6414b03",
   "metadata": {},
   "outputs": [],
   "source": []
  },
  {
   "cell_type": "code",
   "execution_count": null,
   "id": "14bb57ea-a4f5-4d6f-99e0-ecc918e19c0f",
   "metadata": {},
   "outputs": [],
   "source": []
  },
  {
   "cell_type": "code",
   "execution_count": null,
   "id": "4f2ee210-34a3-4b11-afdd-7339b197de52",
   "metadata": {},
   "outputs": [],
   "source": []
  },
  {
   "cell_type": "code",
   "execution_count": null,
   "id": "1ba8676c-7e42-40d3-af8d-5a3c0bf1a16f",
   "metadata": {},
   "outputs": [],
   "source": []
  },
  {
   "cell_type": "code",
   "execution_count": null,
   "id": "d198335c-ce17-46d6-899b-85ed22dac93c",
   "metadata": {},
   "outputs": [],
   "source": [
    "n= 3\n",
    "probabilities =  model.predict(X_val_normalized)\n",
    "results_ranked = np.argsort(-probabilities, axis=1)\n",
    "display(extract_stats(n, results_ranked, y_val, d_target_mapping))"
   ]
  },
  {
   "cell_type": "code",
   "execution_count": null,
   "id": "b54c8ab4-6605-40f7-853b-bb4442b8c920",
   "metadata": {},
   "outputs": [],
   "source": [
    "n= 3\n",
    "probabilities =  model.predict(X_val_normalized)\n",
    "results_ranked = np.argsort(-probabilities, axis=1)\n",
    "display(extract_stats(n, results_ranked, y_val, d_target_mapping))"
   ]
  },
  {
   "cell_type": "code",
   "execution_count": null,
   "id": "56317423-0616-4481-9d86-9c5abb325d68",
   "metadata": {},
   "outputs": [],
   "source": [
    "n= 3\n",
    "probabilities =  model.predict(X_val_normalized)\n",
    "results_ranked = np.argsort(-probabilities, axis=1)\n",
    "display(extract_stats(n, results_ranked, y_val, d_target_mapping))"
   ]
  },
  {
   "cell_type": "code",
   "execution_count": null,
   "id": "9a0f4281-5fbe-42cd-92c3-3e358c03fdfd",
   "metadata": {},
   "outputs": [],
   "source": [
    "n= 3\n",
    "probabilities =  model.predict(X_val_normalized)\n",
    "results_ranked = np.argsort(-probabilities, axis=1)\n",
    "display(extract_stats(n, results_ranked, y_val, d_target_mapping))"
   ]
  },
  {
   "cell_type": "markdown",
   "id": "14c31129-bc10-4a9e-b261-a2da7b07ba5a",
   "metadata": {},
   "source": [
    "#### Tunning"
   ]
  },
  {
   "cell_type": "code",
   "execution_count": null,
   "id": "f7325edc-554a-4555-ad9e-f8bd8c15a7bd",
   "metadata": {},
   "outputs": [],
   "source": [
    "#!pip install tensorflow scikeras scikit-learn"
   ]
  },
  {
   "cell_type": "code",
   "execution_count": null,
   "id": "8ea6f7ee-1902-4b28-96f6-612a2688a62f",
   "metadata": {},
   "outputs": [],
   "source": [
    "from scikeras.wrappers import KerasClassifier\n",
    "from sklearn.metrics import make_scorer"
   ]
  },
  {
   "cell_type": "code",
   "execution_count": null,
   "id": "4a5b00dc-4013-4931-bab2-8a693bbfcc3f",
   "metadata": {},
   "outputs": [],
   "source": [
    "def create_model(input_size, output_size, hidden_layer_dim, activation):\n",
    "    \n",
    "    model = Sequential()\n",
    "    model.add(Dense(64, activation=activation, input_dim=input_size))\n",
    "    model.add(Dense(hidden_layer_dim, activation=activation))\n",
    "    model.add(Dense(output_size, activation='softmax'))\n",
    "    \n",
    "    return model"
   ]
  },
  {
   "cell_type": "code",
   "execution_count": null,
   "id": "126cad17-501a-4bdb-ad40-02c315cd7b31",
   "metadata": {},
   "outputs": [],
   "source": [
    "# Create KerasClassifier\n",
    "model = KerasClassifier(\n",
    "    create_model,\n",
    "    input_size=input_size,\n",
    "    output_size=output_size,\n",
    "    hidden_layer_dim=100,\n",
    "    activation='relu',\n",
    "    loss=tf.keras.losses.SparseCategoricalCrossentropy(),\n",
    "    metrics=[tf.keras.metrics.SparseTopKCategoricalAccuracy(k=3)]\n",
    ")"
   ]
  },
  {
   "cell_type": "code",
   "execution_count": null,
   "id": "4f22fccf-3ca8-4400-933b-f34d0eb43a28",
   "metadata": {},
   "outputs": [],
   "source": [
    "from sklearn.metrics import top_k_accuracy_score"
   ]
  },
  {
   "cell_type": "code",
   "execution_count": null,
   "id": "181dd733-4c1f-444c-9585-22e7faf839a6",
   "metadata": {},
   "outputs": [],
   "source": [
    "# Define the hyperparameters to tune\n",
    "param_grid = {\n",
    "    'hidden_layer_dim': [50, 100, 200, 300, 400, 500],\n",
    "    'optimizer': ['adam', 'sgd'],\n",
    "    'optimizer__learning_rate': [0.0001, 0.0005, 0.001],\n",
    "    'activation': ['relu', 'sigmoid'],\n",
    "    'batch_size': [128, 256, 512, 1024, 2048,4096]\n",
    "}\n",
    "\n",
    "# Perform grid search\n",
    "grid_search = GridSearchCV(\n",
    "    estimator=model, \n",
    "    param_grid=param_grid, \n",
    "    cv=5, \n",
    "    scoring=make_scorer(top_k_accuracy_score, k=3, response_method='predict_proba')\n",
    "    #scoring=make_scorer(top_k_accuracy_score, k=3, labels=list(d_target_mapping.values()))\n",
    ")\n",
    "grid_search.fit(X_train_normalized, y_train)"
   ]
  },
  {
   "cell_type": "code",
   "execution_count": null,
   "id": "d8200e85-c50f-418c-86d2-f7c2ec4e599d",
   "metadata": {},
   "outputs": [],
   "source": [
    "print(grid_search.best_score_, grid_search.best_params_)"
   ]
  },
  {
   "cell_type": "code",
   "execution_count": null,
   "id": "5bf88b66-0939-4aa9-a5cf-320a0bf058cb",
   "metadata": {},
   "outputs": [],
   "source": [
    "# Get the best parameters and model\n",
    "best_params = grid_search.best_params_\n",
    "best_model = grid_search.best_estimator_\n",
    "best_params"
   ]
  },
  {
   "cell_type": "code",
   "execution_count": null,
   "id": "6984641a-960f-4365-82de-066badecb39b",
   "metadata": {},
   "outputs": [],
   "source": [
    "n= 3\n",
    "probabilities =  best_model.predict_proba(X_val_normalized)\n",
    "results_ranked = np.argsort(-probabilities, axis=1)\n",
    "display(extract_stats(n, results_ranked, y_val, d_target_mapping))"
   ]
  },
  {
   "cell_type": "code",
   "execution_count": null,
   "id": "bf541313-16b2-49c3-9c82-adbc3875a708",
   "metadata": {},
   "outputs": [],
   "source": [
    "# Train the best model\n",
    "best_model.fit(X_train_normalized, y_train, epochs=1000, validation_data=(X_test_normalized, y_test))"
   ]
  },
  {
   "cell_type": "code",
   "execution_count": null,
   "id": "32cf7806-c262-47b8-b29c-6fc137e35f62",
   "metadata": {},
   "outputs": [],
   "source": [
    "n= 3\n",
    "probabilities =  best_model.predict_proba(X_val_normalized)\n",
    "results_ranked = np.argsort(-probabilities, axis=1)\n",
    "display(extract_stats(n, results_ranked, y_val, d_target_mapping))"
   ]
  },
  {
   "cell_type": "code",
   "execution_count": null,
   "id": "4d591c7a-917a-4b82-9348-1ffc7fe5d83d",
   "metadata": {},
   "outputs": [],
   "source": [
    "print('ok')"
   ]
  },
  {
   "cell_type": "code",
   "execution_count": null,
   "id": "aba5761b-16fa-460c-85af-bf60cbc2ff87",
   "metadata": {},
   "outputs": [],
   "source": []
  }
 ],
 "metadata": {
  "kernelspec": {
   "display_name": "Python 3 (ipykernel)",
   "language": "python",
   "name": "python3"
  },
  "language_info": {
   "codemirror_mode": {
    "name": "ipython",
    "version": 3
   },
   "file_extension": ".py",
   "mimetype": "text/x-python",
   "name": "python",
   "nbconvert_exporter": "python",
   "pygments_lexer": "ipython3",
   "version": "3.10.13"
  }
 },
 "nbformat": 4,
 "nbformat_minor": 5
}
