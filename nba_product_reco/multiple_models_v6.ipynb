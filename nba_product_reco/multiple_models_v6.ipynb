{
 "cells": [
  {
   "cell_type": "code",
   "execution_count": null,
   "id": "5c6dab2b-e3f5-429a-8429-5a10c346bf42",
   "metadata": {},
   "outputs": [],
   "source": [
    "#!pip install matplotlib"
   ]
  },
  {
   "cell_type": "code",
   "execution_count": null,
   "id": "a12d837d-045c-4840-9ef8-d25910dd6896",
   "metadata": {},
   "outputs": [],
   "source": [
    "#!pip install scikit-learn"
   ]
  },
  {
   "cell_type": "code",
   "execution_count": null,
   "id": "c259e2c8-b4e2-492b-a36e-eecbee7c836e",
   "metadata": {},
   "outputs": [],
   "source": [
    "# import global modules\n",
    "import os\n",
    "import re\n",
    "import sys\n",
    "import time\n",
    "import json\n",
    "import pickle\n",
    "import numpy as np\n",
    "import pandas as pd\n",
    "from pathlib import Path\n",
    "from yaml import safe_load\n",
    "import matplotlib.pyplot as plt\n",
    "from sklearn.impute import SimpleImputer\n",
    "from sklearn.metrics import accuracy_score\n",
    "from scipy.stats import uniform, randint\n",
    "from sklearn.model_selection import cross_val_score, GridSearchCV, KFold, RandomizedSearchCV, train_test_split\n",
    "from sklearn.linear_model import LogisticRegression\n",
    "from sklearn.ensemble import RandomForestClassifier\n",
    "from sklearn.svm import SVC\n",
    "\n",
    "# Set global vars\n",
    "pth_project = Path(os.getcwd().split('notebooks')[0])\n",
    "pth_data = pth_project / 'data'\n",
    "pth_utils = pth_project / 'utils'\n",
    "pth_queries = pth_project / 'queries'\n",
    "pth_creds = pth_project / 'conf' / 'local' / 'project_config.yaml'\n",
    "sys.path.insert(0, pth_project.as_posix())\n",
    "d_config = safe_load(pth_creds.open())\n",
    "\n",
    "# import local modules\n",
    "from utils.gcp import connect_bq_services, connect_pandas_bq_services\n",
    "from utils.extract import extract_bq_data\n",
    "from utils.modeling import process_features, extract_stats"
   ]
  },
  {
   "cell_type": "code",
   "execution_count": null,
   "id": "5f65b9d6-2a01-4f40-954f-7ea6bc7d67b8",
   "metadata": {},
   "outputs": [],
   "source": [
    "bq_client = connect_bq_services(d_config['gcp-project-name'])"
   ]
  },
  {
   "cell_type": "code",
   "execution_count": null,
   "id": "3cdd5e07-9d11-4344-82fa-f83aef8796b6",
   "metadata": {},
   "outputs": [],
   "source": [
    "%load_ext autoreload\n",
    "%autoreload 2"
   ]
  },
  {
   "cell_type": "markdown",
   "id": "7bd3551c-f2af-47a0-8e73-f4a8099c87f3",
   "metadata": {},
   "source": [
    "#### Extract data"
   ]
  },
  {
   "cell_type": "code",
   "execution_count": null,
   "id": "bdc315e0-ca90-4932-a26d-b3918e0b722c",
   "metadata": {},
   "outputs": [],
   "source": [
    "# extract trainning data\n",
    "sql = f\"\"\"\n",
    "  select *\n",
    "    from `divg-team-v03-pr-de558a.nba_product_reco_model.nba_training_dataset_v9` #Jan to Oct\n",
    "\"\"\"\n",
    "df_train = extract_bq_data(bq_client, sql)\n",
    "df_train.shape"
   ]
  },
  {
   "cell_type": "code",
   "execution_count": null,
   "id": "e1d1e07f-973d-421f-a8df-bd3a884c68e5",
   "metadata": {},
   "outputs": [],
   "source": [
    "# extract validation data\n",
    "sql = f\"\"\"\n",
    "  select *\n",
    "    from `divg-team-v03-pr-de558a.nba_product_reco_model.nba_val_dataset_v9` #Nov \n",
    "\"\"\"\n",
    "df_validation = extract_bq_data(bq_client, sql)\n",
    "df_validation.shape"
   ]
  },
  {
   "cell_type": "code",
   "execution_count": null,
   "id": "8a83e306-a61d-4566-baa4-8ad3fc33ccf5",
   "metadata": {},
   "outputs": [],
   "source": [
    "# extract test data\n",
    "sql = f\"\"\"\n",
    "  select *\n",
    "    from `divg-team-v03-pr-de558a.nba_product_reco_model.nba_test_dataset_v9` #Dec \n",
    "\"\"\"\n",
    "df_test = extract_bq_data(bq_client, sql)\n",
    "df_test.shape"
   ]
  },
  {
   "cell_type": "markdown",
   "id": "4b2ba497-beaa-421d-a5b0-147cbd475121",
   "metadata": {},
   "source": [
    "#### Process data"
   ]
  },
  {
   "cell_type": "code",
   "execution_count": null,
   "id": "8ae7885f-329a-4ae8-9bb4-9dbe95aaba0b",
   "metadata": {},
   "outputs": [],
   "source": [
    "#!pip install category-encoders\n",
    "#import category_encoders as ce"
   ]
  },
  {
   "cell_type": "code",
   "execution_count": null,
   "id": "e8dd5f0f-0616-4c98-93f7-8253238e1b57",
   "metadata": {},
   "outputs": [],
   "source": [
    "# create target output\n",
    "# d_target_mapping = {\n",
    "#     scenario: i\n",
    "#     for i, scenario in enumerate(df_train['model_scenario'].unique())\n",
    "# }\n",
    "\n",
    "d_target_mapping = {\n",
    " 'sing_acquisition': 0,\n",
    " 'shs_acquisition': 1,\n",
    " 'tos_acquisition': 2,\n",
    " 'wifi_acquisition': 3,\n",
    " 'ttv_acquisition': 4,\n",
    " 'sws_acquisition': 5,\n",
    " 'hsic_acquisition': 6,\n",
    " 'lwc_acquisition': 7,\n",
    " 'hpro_acquisition': 8,\n",
    " 'whsia_acquisition': 9\n",
    "}\n",
    "\n",
    "d_target_mapping"
   ]
  },
  {
   "cell_type": "code",
   "execution_count": null,
   "id": "965e67ea-d72c-49a9-a176-1789653439ad",
   "metadata": {},
   "outputs": [],
   "source": [
    "# load features metadata\n",
    "d_features_metadata = safe_load((pth_utils / 'parameters' / 'acquisition_features_v5.yaml').open())"
   ]
  },
  {
   "cell_type": "code",
   "execution_count": null,
   "id": "5afefa61-fcfe-42f7-bbb2-acfe16b39a96",
   "metadata": {},
   "outputs": [],
   "source": [
    "# process training data\n",
    "df_train_processed = process_features(df_train, d_features_metadata, 'model_scenario', d_target_mapping)\n",
    "df_validation_processed = process_features(df_validation, d_features_metadata, 'model_scenario', d_target_mapping)\n",
    "df_test_processed = process_features(df_test, d_features_metadata, 'model_scenario', d_target_mapping)"
   ]
  },
  {
   "cell_type": "code",
   "execution_count": null,
   "id": "85d3b99d-354a-4e7f-b390-c612b636b6f6",
   "metadata": {},
   "outputs": [],
   "source": [
    "print(df_train_processed.shape)\n",
    "print(df_validation_processed.shape)\n",
    "print(df_test_processed.shape)"
   ]
  },
  {
   "cell_type": "code",
   "execution_count": null,
   "id": "14380e2b-7009-4b8e-8b60-4c23452a7604",
   "metadata": {},
   "outputs": [],
   "source": [
    "# l_cat_features = [\n",
    "#     'acct_cr_risk_txt',\n",
    "#     'acct_ebill_ind',\n",
    "#     'cust_cr_val_txt',\n",
    "#     'cust_pref_lang_txt',\n",
    "#     'cust_prov_state_cd'\n",
    "# ]"
   ]
  },
  {
   "cell_type": "code",
   "execution_count": null,
   "id": "1de5bccc-5124-4b58-af7b-2034adab89ef",
   "metadata": {},
   "outputs": [],
   "source": [
    "# df_train_all_num = df_train[df_train.select_dtypes(exclude=['object']).columns]\n",
    "# df_validation_all_num = df_validation[df_train_all_num.columns]"
   ]
  },
  {
   "cell_type": "code",
   "execution_count": null,
   "id": "0da1aba5-a9d3-41d4-ac67-7b62fbc7071c",
   "metadata": {},
   "outputs": [],
   "source": [
    "# for col in l_cat_features:\n",
    "#     df_train_all_num[col] = df_train[col]\n",
    "#     df_validation_all_num[col] = df_validation[col]\n",
    "\n",
    "# for col in l_cat_features:\n",
    "#     df_train_processed[col] = df_train[col]\n",
    "#     df_validation_processed[col] = df_validation[col]"
   ]
  },
  {
   "cell_type": "code",
   "execution_count": null,
   "id": "e0f31b23-d2da-4713-b611-b567f5a85516",
   "metadata": {},
   "outputs": [],
   "source": [
    "# df_train_all_num['fsa'] = df_train_processed['fsa']\n",
    "# df_validation_all_num['fsa'] = df_validation_processed['fsa']"
   ]
  },
  {
   "cell_type": "code",
   "execution_count": null,
   "id": "fc7006dd-e771-4462-b1f3-ce1a27e061fd",
   "metadata": {},
   "outputs": [],
   "source": [
    "# df_train_all_num = df_train_all_num.fillna(0)\n",
    "# df_validation_all_num = df_validation_all_num.fillna(0)"
   ]
  },
  {
   "cell_type": "markdown",
   "id": "04aa5cc0-74c0-49e9-a5df-3c5b7f822efd",
   "metadata": {},
   "source": [
    "#### Split data"
   ]
  },
  {
   "cell_type": "code",
   "execution_count": null,
   "id": "e385af35-a837-4f3c-beec-aa06b5a1b7c9",
   "metadata": {},
   "outputs": [],
   "source": [
    "# Separate the features and target variable\n",
    "ban_train = df_train[['ban', 'lpds_id']]\n",
    "X_train = df_train_processed.drop(columns='target')\n",
    "y_train = df_train_processed['target']\n",
    "\n",
    "ban_val = df_validation[['ban', 'lpds_id']]\n",
    "X_val = df_validation_processed.drop(columns='target')\n",
    "y_val = df_validation_processed['target']\n",
    "\n",
    "ban_test = df_test[['ban', 'lpds_id']]\n",
    "X_test = df_test_processed.drop(columns='target')\n",
    "y_test = df_test_processed['target']"
   ]
  },
  {
   "cell_type": "code",
   "execution_count": null,
   "id": "45512495-ba87-4653-8f1c-a763bc2b9aed",
   "metadata": {},
   "outputs": [],
   "source": [
    "# # Separate the features and target variable\n",
    "# X = df_train_processed.drop(columns='target')\n",
    "# #X = df_train_all_num.drop(columns=['cust_src_id', 'ban', 'ban_src_id', 'lpds_id', 'label', 'ban_1'])\n",
    "# y = df_train_processed['target']\n",
    "\n",
    "# X_val = df_validation_processed.drop(columns='target')\n",
    "# #X_val = df_validation_all_num.drop(columns=['cust_src_id', 'ban', 'ban_src_id', 'lpds_id', 'label', 'ban_1'])\n",
    "# y_val = df_validation_processed['target']"
   ]
  },
  {
   "cell_type": "code",
   "execution_count": null,
   "id": "246b31d8-048b-4860-b4ed-b9a1298ed277",
   "metadata": {},
   "outputs": [],
   "source": [
    "#X = X.fillna(0)\n",
    "#X_val = X_val.fillna(0)"
   ]
  },
  {
   "cell_type": "code",
   "execution_count": null,
   "id": "4d228cb3-d484-4a89-8a2b-63a6de4f2579",
   "metadata": {},
   "outputs": [],
   "source": [
    "# # train test split\n",
    "# X_train, X_test, y_train, y_test = train_test_split(X, y, test_size=0.3, random_state=42)"
   ]
  },
  {
   "cell_type": "code",
   "execution_count": null,
   "id": "b16734f8-dfd8-440e-bebf-e3df802972e4",
   "metadata": {},
   "outputs": [],
   "source": [
    "# use target encoding to encode two categorical features\n",
    "#enc = ce.TargetEncoder(cols=['fsa'])\n",
    "#enc = ce.TargetEncoder(cols=l_cat_features + ['fsa'])"
   ]
  },
  {
   "cell_type": "code",
   "execution_count": null,
   "id": "a20b60e6-2a1e-4f9e-a3a7-26fe6ffdfc96",
   "metadata": {},
   "outputs": [],
   "source": [
    "# transform the datasets\n",
    "# X_train = enc.fit_transform(X_train, y_train)\n",
    "# X_test = enc.transform(X_test)\n",
    "# X_val = enc.transform(X_val)"
   ]
  },
  {
   "cell_type": "markdown",
   "id": "8559d912-aff3-4a67-9b39-923ca6311afe",
   "metadata": {},
   "source": [
    "#### Sampling"
   ]
  },
  {
   "cell_type": "code",
   "execution_count": null,
   "id": "a4d0b0bf-85d6-4a48-a87d-8a6a85a94d61",
   "metadata": {},
   "outputs": [],
   "source": [
    "#!pip install imblearn"
   ]
  },
  {
   "cell_type": "code",
   "execution_count": null,
   "id": "31b057e9-d320-4a20-adae-cddb4f58629e",
   "metadata": {},
   "outputs": [],
   "source": [
    "#from imblearn.over_sampling import RandomOverSampler, SMOTE"
   ]
  },
  {
   "cell_type": "code",
   "execution_count": null,
   "id": "e679ce28-9506-4255-a8b7-2af87cc5a153",
   "metadata": {},
   "outputs": [],
   "source": [
    "# Apply random oversampling to balance the dataset\n",
    "#sampling = RandomOverSampler(random_state=42, sampling_strategy=sampling_strategy)\n",
    "# sampling = SMOTE(random_state=42)\n",
    "\n",
    "# X_train_resampled, y_train_resampled = sampling.fit_resample(X_train.astype('float'), y_train)"
   ]
  },
  {
   "cell_type": "code",
   "execution_count": null,
   "id": "c0e4bc56-5a23-418a-881d-cacee12a51fa",
   "metadata": {},
   "outputs": [],
   "source": [
    "#y_train_resampled.value_counts()"
   ]
  },
  {
   "cell_type": "markdown",
   "id": "9a3052d2-5fa2-4e0e-a54d-05b413e7b0c9",
   "metadata": {
    "tags": []
   },
   "source": [
    "#### XGBoost"
   ]
  },
  {
   "cell_type": "code",
   "execution_count": null,
   "id": "0fd0bfe9-9af2-4752-afa5-8639f65d8946",
   "metadata": {},
   "outputs": [],
   "source": [
    "#!pip install xgboost\n",
    "import xgboost as xgb"
   ]
  },
  {
   "cell_type": "markdown",
   "id": "7304af29-1bb5-4c90-9fe8-14deb9dbff50",
   "metadata": {},
   "source": [
    "##### Tunning"
   ]
  },
  {
   "cell_type": "code",
   "execution_count": null,
   "id": "7a2aaeb0-2d0f-4b07-9284-92082308f770",
   "metadata": {},
   "outputs": [],
   "source": [
    "#!pip install optuna\n",
    "#import optuna"
   ]
  },
  {
   "cell_type": "code",
   "execution_count": null,
   "id": "c74f6405-5f03-4cc0-bff1-a233b128886b",
   "metadata": {},
   "outputs": [],
   "source": [
    "# # Define the objective function for Optuna\n",
    "# def objective(trial):\n",
    "#     # Define the hyperparameters to tune\n",
    "#     params = {\n",
    "#         'objective': 'multi:softmax',\n",
    "#         'eval_metric': 'mlogloss',\n",
    "#         'num_class': 9,\n",
    "#         'booster': trial.suggest_categorical('booster', ['gbtree', 'gblinear', 'dart']),\n",
    "#         'max_depth': trial.suggest_int('max_depth', 3, 10),\n",
    "#         'learning_rate': trial.suggest_loguniform('learning_rate', 0.01, 0.1),\n",
    "#         'subsample': trial.suggest_uniform('subsample', 0.5, 1),\n",
    "#         'colsample_bytree': trial.suggest_uniform('colsample_bytree', 0.5, 1),\n",
    "#         'reg_alpha': trial.suggest_loguniform('reg_alpha', 1e-5, 10),\n",
    "#         'reg_lambda': trial.suggest_loguniform('reg_lambda', 1e-5, 10),\n",
    "#         'min_child_weight': trial.suggest_int('min_child_weight', 1, 10),\n",
    "#     }\n",
    "    \n",
    "#     # Train the XGBoost model with the current set of hyperparameters\n",
    "#     dtrain = xgb.DMatrix(X_train, label=y_train)\n",
    "#     dval = xgb.DMatrix(X_val, label=y_val)\n",
    "#     model = xgb.train(params, dtrain, num_boost_round=100)\n",
    "\n",
    "#     # Make predictions on the validation set\n",
    "#     y_pred = model.predict(dval)\n",
    "\n",
    "#     # Calculate the accuracy score\n",
    "#     accuracy = accuracy_score(y_val, y_pred)\n",
    "\n",
    "#     return 1 - accuracy"
   ]
  },
  {
   "cell_type": "code",
   "execution_count": null,
   "id": "b1c39fb7-5fe3-4b96-93a0-24cdfda3444c",
   "metadata": {},
   "outputs": [],
   "source": [
    "# Define the Optuna study\n",
    "#study = optuna.create_study(direction='minimize')"
   ]
  },
  {
   "cell_type": "code",
   "execution_count": null,
   "id": "10e1aef8-5e07-4a65-8bad-8cd7297e03c4",
   "metadata": {},
   "outputs": [],
   "source": [
    "# Start the optimization process\n",
    "#study.optimize(objective, n_trials=100)"
   ]
  },
  {
   "cell_type": "code",
   "execution_count": null,
   "id": "fae4d6f0-00f0-4344-95c8-220b7a6a820b",
   "metadata": {},
   "outputs": [],
   "source": [
    "# Get the best hyperparameters and the best score\n",
    "# best_params = study.best_params\n",
    "# best_score = study.best_value\n",
    "\n",
    "# print(\"Best Hyperparameters:\", best_params)\n",
    "# print(\"Best Score:\", best_score)"
   ]
  },
  {
   "cell_type": "code",
   "execution_count": null,
   "id": "57d43879-2760-47be-89fb-548e164e323b",
   "metadata": {},
   "outputs": [],
   "source": [
    "# best_params.update({\n",
    "#     'objective': 'multi:softmax',\n",
    "#     'eval_metric': 'mlogloss',\n",
    "#     'num_class': 9\n",
    "# })"
   ]
  },
  {
   "cell_type": "code",
   "execution_count": null,
   "id": "25f82b54-250d-4fa5-bf59-f9e5eb553a1f",
   "metadata": {},
   "outputs": [],
   "source": [
    "#best_params"
   ]
  },
  {
   "cell_type": "code",
   "execution_count": null,
   "id": "3f1d5a71-6e34-46ee-aa6c-d82d6a408e23",
   "metadata": {},
   "outputs": [],
   "source": [
    "# xgb_model = xgb.XGBClassifier(\n",
    "#     best_params\n",
    "# )"
   ]
  },
  {
   "cell_type": "code",
   "execution_count": null,
   "id": "8d39bacb-1dd6-490b-9d9a-6b8434441319",
   "metadata": {},
   "outputs": [],
   "source": [
    "# Train the best model with the best hyperparameters\n",
    "#best_model = xgb.train(best_params, xgb.DMatrix(X_train, label=y_train), num_boost_round=100)"
   ]
  },
  {
   "cell_type": "code",
   "execution_count": null,
   "id": "adb0d594-16c2-4b61-8db4-ad5a49c5335b",
   "metadata": {},
   "outputs": [],
   "source": [
    "# # hyperparamètres\n",
    "# params = {\n",
    "#     \"colsample_bytree\": np.arange(0.5, 1.0, 0.1),\n",
    "#     \"gamma\": uniform(0, 0.5),\n",
    "#     \"learning_rate\": [0.01, 0.1, 0.2, 0.3], # default 0.1 \n",
    "#     \"max_depth\": randint(3, 7), # default 3\n",
    "#     \"n_estimators\": randint(100, 200), # default 100\n",
    "#     \"subsample\": np.arange(0.5, 1.0, 0.1),\n",
    "#     \"min_child_weight\" : range(1,6,2),\n",
    "#     \"objective\": 'multi:softproba'\n",
    "# }"
   ]
  },
  {
   "cell_type": "code",
   "execution_count": null,
   "id": "bf085795-022a-4eab-a62a-1d2fb566fa1a",
   "metadata": {},
   "outputs": [],
   "source": [
    "# search = RandomizedSearchCV(\n",
    "#     xgb_model, \n",
    "#     param_distributions=params, \n",
    "#     random_state=42, \n",
    "#     n_iter=20, \n",
    "#     cv=5, \n",
    "#     verbose=3, \n",
    "#     n_jobs=1,\n",
    "#     scoring='accuracy', \n",
    "#     return_train_score=True\n",
    "# )"
   ]
  },
  {
   "cell_type": "code",
   "execution_count": null,
   "id": "7589b53d-940c-4822-a639-f65d569b2df4",
   "metadata": {},
   "outputs": [],
   "source": [
    "#search_result = search.fit(X_train, y_train)"
   ]
  },
  {
   "cell_type": "code",
   "execution_count": null,
   "id": "dca63628-b80b-4a80-be27-0c617814782b",
   "metadata": {},
   "outputs": [],
   "source": [
    "# print(\"Best parameters:\", search_result.best_params_)\n",
    "# print(\"Best score: \", search.best_score_)\n",
    "\n",
    "# xgb_best_model = search_result.best_estimator_"
   ]
  },
  {
   "cell_type": "markdown",
   "id": "56bad32c-4a4a-4e18-bf6c-d5ea5d333ea2",
   "metadata": {},
   "source": [
    "##### Training"
   ]
  },
  {
   "cell_type": "code",
   "execution_count": null,
   "id": "db0963bb-aff9-4467-829b-1af339312a74",
   "metadata": {},
   "outputs": [],
   "source": [
    "xgb_model = xgb.XGBClassifier()"
   ]
  },
  {
   "cell_type": "code",
   "execution_count": null,
   "id": "4f672bca-8b98-417c-956b-fdb716aff597",
   "metadata": {},
   "outputs": [],
   "source": [
    "xgb_model = xgb.XGBClassifier(\n",
    "    learning_rate=0.1,\n",
    "    n_estimators=250,\n",
    "    max_depth=8,\n",
    "    min_child_weight=1,\n",
    "    gamma=0,\n",
    "    subsample=0.8,\n",
    "    colsample_bytree=0.8,\n",
    "    objective='multi:softproba',\n",
    "    num_class=3, \n",
    "    eval_metric='mlogloss', \n",
    "    nthread=4,\n",
    "    scale_pos_weight=1,\n",
    "    seed=27,\n",
    "    verbose=1\n",
    ")"
   ]
  },
  {
   "cell_type": "code",
   "execution_count": null,
   "id": "675d1f18-be8e-482f-830e-cb34169b96d5",
   "metadata": {},
   "outputs": [],
   "source": [
    "# #xgb_model.fit(X_train_resampled, y_train_resampled)\n",
    "# xgb_model.fit(X_train, y_train)"
   ]
  },
  {
   "cell_type": "code",
   "execution_count": null,
   "id": "672ddd18-a68f-4490-ba28-d09d87bce328",
   "metadata": {},
   "outputs": [],
   "source": [
    "# n= 3\n",
    "# probabilities =  xgb_model.predict_proba(X_val)\n",
    "# results_ranked = np.argsort(-probabilities, axis=1)\n",
    "# display(extract_stats(n, results_ranked, y_val, d_target_mapping))"
   ]
  },
  {
   "cell_type": "code",
   "execution_count": null,
   "id": "3e7b13cd-10ad-4dd1-a1d5-dc2f3f9838e3",
   "metadata": {},
   "outputs": [],
   "source": [
    "# n= 3\n",
    "# probabilities =  xgb_model.predict_proba(X_test)\n",
    "# results_ranked = np.argsort(-probabilities, axis=1)\n",
    "# display(extract_stats(n, results_ranked, y_test, d_target_mapping))"
   ]
  },
  {
   "cell_type": "code",
   "execution_count": null,
   "id": "d6def3c2-c678-4ddb-ace5-5bea03e8ceb3",
   "metadata": {},
   "outputs": [],
   "source": [
    "# y_pred = xgb_model.predict_proba(X_test, ntree_limit=xgb_model.best_iteration)\n",
    "\n",
    "# y_pred_0 = y_pred[:, 0]\n",
    "# y_pred_1 = y_pred[:, 1]\n",
    "# y_pred_2 = y_pred[:, 2]\n",
    "# y_pred_3 = y_pred[:, 3]\n",
    "# y_pred_4 = y_pred[:, 4]\n",
    "# y_pred_5 = y_pred[:, 5]\n",
    "# y_pred_6 = y_pred[:, 6]\n",
    "# y_pred_7 = y_pred[:, 7]\n",
    "# y_pred_8 = y_pred[:, 8]\n",
    "# y_pred_9 = y_pred[:, 9]\n",
    "\n",
    "# # #predictions on X_test\n",
    "# # y_pred = xgb_model.predict_proba(X_test, ntree_limit=xgb_model.best_iteration)[:, 1]\n",
    "\n",
    "# df_ban_test = ban_test\n",
    "# df_test_exp = df_ban_test.join(X_test) \n",
    "# df_test_exp['y_test'] = y_test\n",
    "# df_test_exp['y_pred_proba_0'] = y_pred_0\n",
    "# df_test_exp['y_pred_proba_1'] = y_pred_1\n",
    "# df_test_exp['y_pred_proba_2'] = y_pred_2\n",
    "# df_test_exp['y_pred_proba_3'] = y_pred_3\n",
    "# df_test_exp['y_pred_proba_4'] = y_pred_4\n",
    "# df_test_exp['y_pred_proba_5'] = y_pred_5\n",
    "# df_test_exp['y_pred_proba_6'] = y_pred_6\n",
    "# df_test_exp['y_pred_proba_7'] = y_pred_7\n",
    "# df_test_exp['y_pred_proba_8'] = y_pred_8\n",
    "# df_test_exp['y_pred_proba_9'] = y_pred_9\n",
    "# # df_test_exp['y_pred_proba_10'] = y_pred_10\n",
    "# # df_test_exp['y_pred_proba_11'] = y_pred_11\n",
    "# # df_test_exp['y_pred_proba_12'] = y_pred_12\n",
    "\n",
    "# import datetime\n",
    "\n",
    "# # Get the current timestamp\n",
    "# current_timestamp = datetime.datetime.now()\n",
    "\n",
    "# df_test_exp.to_csv(f\"gs://divg-groovyhoon-pr-d2eab4-default/downloads/df_test_exp_{current_timestamp}.csv\")"
   ]
  },
  {
   "cell_type": "code",
   "execution_count": null,
   "id": "39d8932c-7c10-4743-9826-3169fd6ff087",
   "metadata": {},
   "outputs": [],
   "source": [
    "# # Retrieve feature importance scores\n",
    "# importance_scores = xgb_model.feature_importances_\n",
    "# feature_names = X_train.columns\n",
    "\n",
    "# # Sort feature importance scores and feature names in descending order\n",
    "# sorted_indices = importance_scores.argsort()\n",
    "# sorted_scores = importance_scores[sorted_indices][-30:]\n",
    "# sorted_names = feature_names[sorted_indices][-30:]\n",
    "\n",
    "# # Plot feature importance\n",
    "# plt.figure(figsize=(8, 8))\n",
    "# plt.barh(range(len(sorted_scores)), sorted_scores)\n",
    "# plt.yticks(range(len(sorted_scores)), sorted_names)\n",
    "# plt.xlabel('Importance Score')\n",
    "# plt.ylabel('Features')\n",
    "# plt.title('Feature Importance')\n",
    "# plt.show()"
   ]
  },
  {
   "cell_type": "code",
   "execution_count": null,
   "id": "45453a88-d32e-4b80-8f69-709626bad8a9",
   "metadata": {},
   "outputs": [],
   "source": [
    "list_learning_rate = [0.05, 0.1, 0.15]\n",
    "list_n_estimators = [200, 300]\n",
    "list_max_depth = [10, 20] \n",
    "list_objective = ['multi:softproba']\n",
    "list_params = [] \n",
    "list_results = []\n",
    "i = 0\n",
    "\n",
    "for learning_rate in list_learning_rate: \n",
    "    for n_estimators in list_n_estimators: \n",
    "        for max_depth in list_max_depth: \n",
    "            \n",
    "            i += 1 \n",
    "\n",
    "            xgb_model = xgb.XGBClassifier(\n",
    "                learning_rate=learning_rate,\n",
    "                n_estimators=n_estimators,\n",
    "                max_depth=max_depth,\n",
    "                min_child_weight=1,\n",
    "                gamma=0,\n",
    "                subsample=0.8,\n",
    "                colsample_bytree=0.8,\n",
    "                objective='multi:softproba',\n",
    "                num_class=3, \n",
    "                eval_metric='mlogloss', \n",
    "                nthread=4,\n",
    "                scale_pos_weight=1,\n",
    "                seed=27,\n",
    "                verbose=1\n",
    "            )\n",
    "\n",
    "            #xgb_model.fit(X_train_resampled, y_train_resampled)\n",
    "            xgb_model.fit(X_train, y_train)\n",
    "\n",
    "            n= 3\n",
    "            probabilities =  xgb_model.predict_proba(X_val)\n",
    "            results_ranked = np.argsort(-probabilities, axis=1)\n",
    "            \n",
    "            df_stat = extract_stats(n, results_ranked, y_val, d_target_mapping)\n",
    "            list_results.append(df_stat)\n",
    "            \n",
    "            params = {'index': i,\n",
    "                      'learning_rate': learning_rate, \n",
    "                      'n_estimators': n_estimators, \n",
    "                      'max_depth': max_depth}\n",
    "            \n",
    "            list_params.append(params)"
   ]
  },
  {
   "cell_type": "code",
   "execution_count": null,
   "id": "5bbaad05-0be9-406a-9ed5-071409d17a1f",
   "metadata": {},
   "outputs": [],
   "source": [
    "for idx, result in enumerate(list_results): \n",
    "    print(f'params: {list_params[idx]}')\n",
    "    print(result)\n",
    "    print(' ')\n",
    "          \n",
    "    lr = list_params[idx]['learning_rate']\n",
    "    ne = list_params[idx]['n_estimators']\n",
    "    md = list_params[idx]['max_depth']\n",
    "          \n",
    "    result.to_csv(f\"gs://divg-groovyhoon-pr-d2eab4-default/downloads/df_stats_{lr}_{ne}_{md}\")\n"
   ]
  },
  {
   "cell_type": "code",
   "execution_count": null,
   "id": "a2bc6d32-a61d-4fac-b147-ed32b1e3f2ab",
   "metadata": {},
   "outputs": [],
   "source": [
    "# Define the hyperparameter grid\n",
    "param_grid = {\n",
    "    'learning_rate': [0.01, 0.05, 0.1],\n",
    "    'n_estimators': [50, 70, 100, 200, 250],\n",
    "    'max_depth': [5, 7, 10], \n",
    "    'objective': 'multi:softproba'\n",
    "}\n",
    "\n",
    "# Perform grid search with cross-validation\n",
    "grid_search = GridSearchCV(estimator=xgb_model, param_grid=param_grid, cv=5, scoring='accuracy', verbose=2)\n",
    "grid_search.fit(X_train, y_train)\n",
    "\n",
    "# Get the best hyperparameters\n",
    "best_params = grid_search.best_params_\n",
    "print(\"Best Hyperparameters:\", best_params)\n",
    "\n",
    "# Evaluate the model on the test set\n",
    "best_model = grid_search.best_estimator_\n",
    "test_accuracy = best_model.score(X_test, y_test)\n",
    "print(\"Test Accuracy:\", test_accuracy)\n"
   ]
  },
  {
   "cell_type": "markdown",
   "id": "960a4d6a-0691-47aa-b1e8-4af1618879ec",
   "metadata": {},
   "source": [
    "#### CatBoost"
   ]
  },
  {
   "cell_type": "code",
   "execution_count": null,
   "id": "ba1c2499-1678-41bf-8e6b-a6e0fe42db22",
   "metadata": {},
   "outputs": [],
   "source": [
    "#!pip install catboost"
   ]
  },
  {
   "cell_type": "code",
   "execution_count": null,
   "id": "94703664-ac0a-4337-a221-132729798f35",
   "metadata": {},
   "outputs": [],
   "source": [
    "#from catboost import CatBoostClassifier"
   ]
  },
  {
   "cell_type": "code",
   "execution_count": null,
   "id": "76ffe162-1873-4e3f-a9fe-ece2263b6e59",
   "metadata": {},
   "outputs": [],
   "source": [
    "#cat_model = CatBoostClassifier()"
   ]
  },
  {
   "cell_type": "code",
   "execution_count": null,
   "id": "ec3e412c-4135-477c-bd47-aa0d347fc304",
   "metadata": {},
   "outputs": [],
   "source": [
    "#cat_model.fit(X_train, y_train, eval_set=(X_test, y_test), verbose=10) "
   ]
  },
  {
   "cell_type": "markdown",
   "id": "a3ff3623-8f41-4f10-8119-0ae83d1853a3",
   "metadata": {},
   "source": [
    "#### LightGBM"
   ]
  },
  {
   "cell_type": "code",
   "execution_count": null,
   "id": "f0ab5aa0-06a0-4c8c-95c0-1d600af3edea",
   "metadata": {},
   "outputs": [],
   "source": [
    "#!pip install lightgbm"
   ]
  },
  {
   "cell_type": "code",
   "execution_count": null,
   "id": "27cf9f7a-a705-443d-8c07-e3631242acf8",
   "metadata": {},
   "outputs": [],
   "source": [
    "#from lightgbm import LGBMClassifier"
   ]
  },
  {
   "cell_type": "code",
   "execution_count": null,
   "id": "1d79543f-cc2a-4c21-95ea-6469713d3d4f",
   "metadata": {},
   "outputs": [],
   "source": [
    "#lgbm = LGBMClassifier(learning_rate=0.1, n_estimators=100, num_leaves=31)"
   ]
  },
  {
   "cell_type": "code",
   "execution_count": null,
   "id": "8d3af907-f029-408b-8ac4-2ac0cdbae319",
   "metadata": {},
   "outputs": [],
   "source": [
    "#lgbm.fit(X_train_resampled, y_train_resampled)"
   ]
  },
  {
   "cell_type": "code",
   "execution_count": null,
   "id": "aa805b27-1743-4d46-856c-19ead29aff70",
   "metadata": {},
   "outputs": [],
   "source": [
    "#lgbm.fit(X_train, y_train)"
   ]
  },
  {
   "cell_type": "markdown",
   "id": "f660ee79-4c74-4bef-8c7a-d4b66d6211f8",
   "metadata": {},
   "source": [
    "#### Results"
   ]
  },
  {
   "cell_type": "code",
   "execution_count": null,
   "id": "20b72bb3-3274-4908-b157-b76a2fb60d47",
   "metadata": {},
   "outputs": [],
   "source": [
    "# d_models_mapping = {\n",
    "#     'XGBClassifier': xgb_model,\n",
    "#     #'LGBMClassifier': lgbm,\n",
    "#     'CatBoost': cat_model,\n",
    "#     # 'OneVsRestClassifier': xgb_best_model,\n",
    "#     # 'OneVsOneClassifier': xgb_best_model,\n",
    "#     #'RandomForest': rf_model,\n",
    "#     #'SVM': svm,\n",
    "#     #'Logistic Regression': lr,\n",
    "#     # 'XGBClassifier': xgb_best_model,\n",
    "#     # 'DeepLearning': xgb_best_model,\n",
    "# }"
   ]
  },
  {
   "cell_type": "code",
   "execution_count": null,
   "id": "71dbe009-ca3d-41de-9733-685d1c992eaf",
   "metadata": {},
   "outputs": [],
   "source": [
    "n= 3\n",
    "probabilities =  xgb_model.predict_proba(X_val)\n",
    "results_ranked = np.argsort(-probabilities, axis=1)\n",
    "display(extract_stats(n, results_ranked, y_val, d_target_mapping))"
   ]
  },
  {
   "cell_type": "code",
   "execution_count": null,
   "id": "2e882fb3-6220-4ef4-9826-b8e494cdd8c7",
   "metadata": {},
   "outputs": [],
   "source": [
    "print(len(probabilities))\n",
    "print(len(y_val))"
   ]
  },
  {
   "cell_type": "code",
   "execution_count": null,
   "id": "1349c712-3cd3-400d-bb9a-e99eed9253cb",
   "metadata": {},
   "outputs": [],
   "source": [
    "# y_pred = xgb_model.predict_proba(X_val)\n",
    "\n",
    "y_pred_0 = probabilities[:, 0]\n",
    "y_pred_1 = probabilities[:, 1]\n",
    "y_pred_2 = probabilities[:, 2]\n",
    "y_pred_3 = probabilities[:, 3]\n",
    "y_pred_4 = probabilities[:, 4]\n",
    "y_pred_5 = probabilities[:, 5]\n",
    "y_pred_6 = probabilities[:, 6]\n",
    "y_pred_7 = probabilities[:, 7]\n",
    "y_pred_8 = probabilities[:, 8]\n",
    "y_pred_9 = probabilities[:, 9]\n",
    "\n",
    "df_val_exp = X_val\n",
    "df_val_exp['y_test'] = y_val\n",
    "df_val_exp['y_pred_proba_0'] = y_pred_0\n",
    "df_val_exp['y_pred_proba_1'] = y_pred_1\n",
    "df_val_exp['y_pred_proba_2'] = y_pred_2\n",
    "df_val_exp['y_pred_proba_3'] = y_pred_3\n",
    "df_val_exp['y_pred_proba_4'] = y_pred_4\n",
    "df_val_exp['y_pred_proba_5'] = y_pred_5\n",
    "df_val_exp['y_pred_proba_6'] = y_pred_6\n",
    "df_val_exp['y_pred_proba_7'] = y_pred_7\n",
    "df_val_exp['y_pred_proba_8'] = y_pred_8\n",
    "df_val_exp['y_pred_proba_9'] = y_pred_9\n",
    "\n",
    "df_val_exp.to_csv(\"gs://divg-groovyhoon-pr-d2eab4-default/downloads/df_val_exp.csv\")"
   ]
  },
  {
   "cell_type": "markdown",
   "id": "63abc07b-6bf0-4bd0-8607-8ee62d615096",
   "metadata": {},
   "source": [
    "#### Features Importance"
   ]
  },
  {
   "cell_type": "code",
   "execution_count": null,
   "id": "9277090a-b965-41f9-a571-4fb113be082f",
   "metadata": {},
   "outputs": [],
   "source": [
    "# Retrieve feature importance scores\n",
    "importance_scores = xgb_model.feature_importances_\n",
    "feature_names = X_train.columns\n",
    "\n",
    "# Sort feature importance scores and feature names in descending order\n",
    "sorted_indices = importance_scores.argsort()\n",
    "sorted_scores = importance_scores[sorted_indices][-30:]\n",
    "sorted_names = feature_names[sorted_indices][-30:]\n",
    "\n",
    "# Plot feature importance\n",
    "plt.figure(figsize=(8, 8))\n",
    "plt.barh(range(len(sorted_scores)), sorted_scores)\n",
    "plt.yticks(range(len(sorted_scores)), sorted_names)\n",
    "plt.xlabel('Importance Score')\n",
    "plt.ylabel('Features')\n",
    "plt.title('Feature Importance')\n",
    "plt.show()"
   ]
  },
  {
   "cell_type": "markdown",
   "id": "c822440c-8bee-4875-95c4-8a971290b7ac",
   "metadata": {},
   "source": [
    "#### Correlation"
   ]
  },
  {
   "cell_type": "code",
   "execution_count": null,
   "id": "b1bac1c4-bf3b-4751-a977-b3905d56b0fb",
   "metadata": {},
   "outputs": [],
   "source": [
    "!pip install seaborn\n",
    "import seaborn as sns"
   ]
  },
  {
   "cell_type": "code",
   "execution_count": null,
   "id": "e5816a4b-6395-4422-b75f-66f6d9435edc",
   "metadata": {},
   "outputs": [],
   "source": [
    "# seaborn heatmap around the correlation matrix.\n",
    "plt.figure(figsize=[40,40])\n",
    "sns.heatmap(\n",
    "    X.corr(numeric_only=True), \n",
    "    annot=True, \n",
    "    fmt='.2f',\n",
    "    square=True, \n",
    "    cmap='vlag', \n",
    "    center=0, \n",
    ")"
   ]
  },
  {
   "cell_type": "code",
   "execution_count": null,
   "id": "14622f81-a624-44a3-bde0-711d11c9da53",
   "metadata": {},
   "outputs": [],
   "source": []
  }
 ],
 "metadata": {
  "environment": {
   "kernel": "python3",
   "name": ".m116",
   "type": "gcloud",
   "uri": "us-docker.pkg.dev/deeplearning-platform-release/gcr.io/:m116"
  },
  "kernelspec": {
   "display_name": "Python 3 (ipykernel)",
   "language": "python",
   "name": "python3"
  },
  "language_info": {
   "codemirror_mode": {
    "name": "ipython",
    "version": 3
   },
   "file_extension": ".py",
   "mimetype": "text/x-python",
   "name": "python",
   "nbconvert_exporter": "python",
   "pygments_lexer": "ipython3",
   "version": "3.10.13"
  }
 },
 "nbformat": 4,
 "nbformat_minor": 5
}
