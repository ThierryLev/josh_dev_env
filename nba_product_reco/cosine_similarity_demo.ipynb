{
 "cells": [
  {
   "cell_type": "code",
   "execution_count": null,
   "id": "211c2201-c188-4117-a53c-86ca39b5c996",
   "metadata": {},
   "outputs": [],
   "source": [
    "import numpy as np\n",
    "from sklearn.metrics.pairwise import cosine_similarity, euclidean_distances, manhattan_distances\n",
    "\n",
    "# Convert lists to numpy arrays\n",
    "a = np.array([1, 0, 1, 0, 1])\n",
    "b = np.array([1, 0, 1, 0, 1])\n",
    "\n",
    "# Define weights\n",
    "weights = np.array([0.55, 0.2, 0.1, 0.05, 0.2])\n",
    "\n",
    "# Apply weights to arrays\n",
    "weighted_a = a * weights\n",
    "weighted_b = b * weights\n",
    "\n",
    "# Reshape arrays to be 2D arrays with one row\n",
    "weighted_a = weighted_a.reshape(1, -1)\n",
    "weighted_b = weighted_b.reshape(1, -1)\n",
    "\n",
    "similarity_score1 = cosine_similarity(weighted_a, weighted_b)[0, 0]\n",
    "similarity_score2 = euclidean_distances(weighted_a, weighted_b)[0, 0]\n",
    "similarity_score3 = manhattan_distances(weighted_a, weighted_b)[0, 0]\n",
    "\n",
    "print(similarity_score1)\n",
    "print(similarity_score2)\n",
    "print(similarity_score3)"
   ]
  },
  {
   "cell_type": "code",
   "execution_count": null,
   "id": "13b353f6-2802-4d84-8e2f-4c88cf261d7d",
   "metadata": {},
   "outputs": [],
   "source": [
    "import numpy as np\n",
    "from sklearn.metrics.pairwise import cosine_similarity, euclidean_distances, manhattan_distances\n",
    "\n",
    "# Convert lists to numpy arrays\n",
    "a = np.array([1, 0, 1, 0, 1])\n",
    "b = np.array([0, 0, 1, 1, 1])\n",
    "\n",
    "# Define weights\n",
    "weights = np.array([0.55, 0.2, 0.1, 0.05, 0.2])\n",
    "\n",
    "# Apply weights to arrays\n",
    "weighted_a = a * weights\n",
    "weighted_b = b * weights\n",
    "\n",
    "# Reshape arrays to be 2D arrays with one row\n",
    "weighted_a = weighted_a.reshape(1, -1)\n",
    "weighted_b = weighted_b.reshape(1, -1)\n",
    "\n",
    "similarity_score1 = cosine_similarity(weighted_a, weighted_b)[0, 0]\n",
    "\n",
    "print(similarity_score1)"
   ]
  },
  {
   "cell_type": "code",
   "execution_count": null,
   "id": "13638e45-1c01-4f18-b769-799e1a75a7c7",
   "metadata": {},
   "outputs": [],
   "source": [
    "a * np.array([0.55, 0.2, 0.1, 0.05, 0.2])"
   ]
  },
  {
   "cell_type": "code",
   "execution_count": null,
   "id": "e56c9f78-6c62-4806-9229-39f278f55ca4",
   "metadata": {},
   "outputs": [],
   "source": [
    "import numpy as np\n",
    "from sklearn.metrics.pairwise import cosine_similarity, euclidean_distances, manhattan_distances\n",
    "\n",
    "# Convert lists to numpy arrays\n",
    "a = np.array([1, 0, 1, 0, 1])\n",
    "b = np.array([100, 0, 1, 0, 1])\n",
    "\n",
    "# Define weights\n",
    "weights = np.array([0.05, 0.2, 0.1, 0.55, 0.2])\n",
    "\n",
    "# Apply weights to arrays\n",
    "weighted_a = a * weights\n",
    "weighted_b = b * weights\n",
    "\n",
    "# Reshape arrays to be 2D arrays with one row\n",
    "weighted_a = weighted_a.reshape(1, -1)\n",
    "weighted_b = weighted_b.reshape(1, -1)\n",
    "\n",
    "similarity_score1 = cosine_similarity(weighted_a, weighted_b)[0, 0]\n",
    "\n",
    "print(similarity_score1)\n"
   ]
  },
  {
   "cell_type": "code",
   "execution_count": null,
   "id": "f7df1a04-7097-4155-b852-99dafbfdd3e4",
   "metadata": {},
   "outputs": [],
   "source": []
  }
 ],
 "metadata": {
  "environment": {
   "kernel": "python3",
   "name": ".m116",
   "type": "gcloud",
   "uri": "us-docker.pkg.dev/deeplearning-platform-release/gcr.io/:m116"
  },
  "kernelspec": {
   "display_name": "Python 3 (ipykernel)",
   "language": "python",
   "name": "python3"
  },
  "language_info": {
   "codemirror_mode": {
    "name": "ipython",
    "version": 3
   },
   "file_extension": ".py",
   "mimetype": "text/x-python",
   "name": "python",
   "nbconvert_exporter": "python",
   "pygments_lexer": "ipython3",
   "version": "3.7.12"
  }
 },
 "nbformat": 4,
 "nbformat_minor": 5
}
